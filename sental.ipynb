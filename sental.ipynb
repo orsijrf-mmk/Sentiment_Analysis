{
  "nbformat": 4,
  "nbformat_minor": 0,
  "metadata": {
    "colab": {
      "provenance": []
    },
    "kernelspec": {
      "name": "python3",
      "display_name": "Python 3"
    },
    "language_info": {
      "name": "python"
    }
  },
  "cells": [
    {
      "cell_type": "code",
      "source": [
        "from warnings import filterwarnings\n",
        "import matplotlib.pyplot as plt\n",
        "import numpy as np\n",
        "import pandas as pd\n",
        "from PIL import Image\n",
        "from nltk.corpus import stopwords\n",
        "from nltk.sentiment import SentimentIntensityAnalyzer\n",
        "from sklearn.ensemble import RandomForestClassifier\n",
        "from sklearn.linear_model import LogisticRegression\n",
        "from sklearn.model_selection import cross_val_score, GridSearchCV, cross_validate\n",
        "from sklearn.preprocessing import LabelEncoder\n",
        "from textblob import Word, TextBlob\n",
        "from wordcloud import WordCloud"
      ],
      "metadata": {
        "id": "w_lqDCS2HiuU"
      },
      "execution_count": 4,
      "outputs": []
    },
    {
      "cell_type": "code",
      "source": [
        "filterwarnings('ignore')"
      ],
      "metadata": {
        "id": "CagGKo2XHusx"
      },
      "execution_count": 5,
      "outputs": []
    },
    {
      "cell_type": "code",
      "source": [
        "pd.set_option('display.max_columns', None)\n",
        "pd.set_option('display.width', 200)\n",
        "pd.set_option('display.float_format', lambda x: '%.2f' % x)"
      ],
      "metadata": {
        "id": "GZ832L3yH1Vu"
      },
      "execution_count": 6,
      "outputs": []
    },
    {
      "cell_type": "code",
      "source": [
        "df = pd.read_csv(\"/content/amazon_reviews.csv\", sep=\",\")\n",
        "df.head()"
      ],
      "metadata": {
        "colab": {
          "base_uri": "https://localhost:8080/",
          "height": 310
        },
        "id": "waU2-E05H9gI",
        "outputId": "a89b5f52-3071-4ff2-c9d5-f1987999d45f"
      },
      "execution_count": 8,
      "outputs": [
        {
          "output_type": "execute_result",
          "data": {
            "text/plain": [
              "   Unnamed: 0        asin   helpful  overall                                         reviewText   reviewTime      reviewerID              reviewerName                                 summary  \\\n",
              "0           0  0528881469    [0, 0]     5.00  We got this GPS for my husband who is an (OTR)...   06 2, 2013   AO94DHGC771SJ                   amazdnu                         Gotta have GPS!   \n",
              "1           1  0528881469  [12, 15]     1.00  I'm a professional OTR truck driver, and I bou...  11 25, 2010   AMO214LNFCEI4           Amazon Customer                       Very Disappointed   \n",
              "2           2  0528881469  [43, 45]     3.00  Well, what can I say.  I've had this unit in m...   09 9, 2010  A3N7T0DY83Y4IG             C. A. Freeman                          1st impression   \n",
              "3           3  0528881469   [9, 10]     2.00  Not going to write a long review, even thought...  11 24, 2010  A1H8PY3QHMQQA0  Dave M. Shaw \"mack dave\"                 Great grafics, POOR GPS   \n",
              "4           4  0528881469    [0, 0]     1.00  I've had mine for a year and here's what we go...  09 29, 2011  A24EV6RXELQZ63               Wayne Smith  Major issues, only excuses for support   \n",
              "\n",
              "   unixReviewTime  \n",
              "0   1370131200.00  \n",
              "1   1290643200.00  \n",
              "2   1283990400.00  \n",
              "3   1290556800.00  \n",
              "4   1317254400.00  "
            ],
            "text/html": [
              "\n",
              "  <div id=\"df-8e487315-3444-4628-a706-deeef6fcfba0\" class=\"colab-df-container\">\n",
              "    <div>\n",
              "<style scoped>\n",
              "    .dataframe tbody tr th:only-of-type {\n",
              "        vertical-align: middle;\n",
              "    }\n",
              "\n",
              "    .dataframe tbody tr th {\n",
              "        vertical-align: top;\n",
              "    }\n",
              "\n",
              "    .dataframe thead th {\n",
              "        text-align: right;\n",
              "    }\n",
              "</style>\n",
              "<table border=\"1\" class=\"dataframe\">\n",
              "  <thead>\n",
              "    <tr style=\"text-align: right;\">\n",
              "      <th></th>\n",
              "      <th>Unnamed: 0</th>\n",
              "      <th>asin</th>\n",
              "      <th>helpful</th>\n",
              "      <th>overall</th>\n",
              "      <th>reviewText</th>\n",
              "      <th>reviewTime</th>\n",
              "      <th>reviewerID</th>\n",
              "      <th>reviewerName</th>\n",
              "      <th>summary</th>\n",
              "      <th>unixReviewTime</th>\n",
              "    </tr>\n",
              "  </thead>\n",
              "  <tbody>\n",
              "    <tr>\n",
              "      <th>0</th>\n",
              "      <td>0</td>\n",
              "      <td>0528881469</td>\n",
              "      <td>[0, 0]</td>\n",
              "      <td>5.00</td>\n",
              "      <td>We got this GPS for my husband who is an (OTR)...</td>\n",
              "      <td>06 2, 2013</td>\n",
              "      <td>AO94DHGC771SJ</td>\n",
              "      <td>amazdnu</td>\n",
              "      <td>Gotta have GPS!</td>\n",
              "      <td>1370131200.00</td>\n",
              "    </tr>\n",
              "    <tr>\n",
              "      <th>1</th>\n",
              "      <td>1</td>\n",
              "      <td>0528881469</td>\n",
              "      <td>[12, 15]</td>\n",
              "      <td>1.00</td>\n",
              "      <td>I'm a professional OTR truck driver, and I bou...</td>\n",
              "      <td>11 25, 2010</td>\n",
              "      <td>AMO214LNFCEI4</td>\n",
              "      <td>Amazon Customer</td>\n",
              "      <td>Very Disappointed</td>\n",
              "      <td>1290643200.00</td>\n",
              "    </tr>\n",
              "    <tr>\n",
              "      <th>2</th>\n",
              "      <td>2</td>\n",
              "      <td>0528881469</td>\n",
              "      <td>[43, 45]</td>\n",
              "      <td>3.00</td>\n",
              "      <td>Well, what can I say.  I've had this unit in m...</td>\n",
              "      <td>09 9, 2010</td>\n",
              "      <td>A3N7T0DY83Y4IG</td>\n",
              "      <td>C. A. Freeman</td>\n",
              "      <td>1st impression</td>\n",
              "      <td>1283990400.00</td>\n",
              "    </tr>\n",
              "    <tr>\n",
              "      <th>3</th>\n",
              "      <td>3</td>\n",
              "      <td>0528881469</td>\n",
              "      <td>[9, 10]</td>\n",
              "      <td>2.00</td>\n",
              "      <td>Not going to write a long review, even thought...</td>\n",
              "      <td>11 24, 2010</td>\n",
              "      <td>A1H8PY3QHMQQA0</td>\n",
              "      <td>Dave M. Shaw \"mack dave\"</td>\n",
              "      <td>Great grafics, POOR GPS</td>\n",
              "      <td>1290556800.00</td>\n",
              "    </tr>\n",
              "    <tr>\n",
              "      <th>4</th>\n",
              "      <td>4</td>\n",
              "      <td>0528881469</td>\n",
              "      <td>[0, 0]</td>\n",
              "      <td>1.00</td>\n",
              "      <td>I've had mine for a year and here's what we go...</td>\n",
              "      <td>09 29, 2011</td>\n",
              "      <td>A24EV6RXELQZ63</td>\n",
              "      <td>Wayne Smith</td>\n",
              "      <td>Major issues, only excuses for support</td>\n",
              "      <td>1317254400.00</td>\n",
              "    </tr>\n",
              "  </tbody>\n",
              "</table>\n",
              "</div>\n",
              "    <div class=\"colab-df-buttons\">\n",
              "\n",
              "  <div class=\"colab-df-container\">\n",
              "    <button class=\"colab-df-convert\" onclick=\"convertToInteractive('df-8e487315-3444-4628-a706-deeef6fcfba0')\"\n",
              "            title=\"Convert this dataframe to an interactive table.\"\n",
              "            style=\"display:none;\">\n",
              "\n",
              "  <svg xmlns=\"http://www.w3.org/2000/svg\" height=\"24px\" viewBox=\"0 -960 960 960\">\n",
              "    <path d=\"M120-120v-720h720v720H120Zm60-500h600v-160H180v160Zm220 220h160v-160H400v160Zm0 220h160v-160H400v160ZM180-400h160v-160H180v160Zm440 0h160v-160H620v160ZM180-180h160v-160H180v160Zm440 0h160v-160H620v160Z\"/>\n",
              "  </svg>\n",
              "    </button>\n",
              "\n",
              "  <style>\n",
              "    .colab-df-container {\n",
              "      display:flex;\n",
              "      gap: 12px;\n",
              "    }\n",
              "\n",
              "    .colab-df-convert {\n",
              "      background-color: #E8F0FE;\n",
              "      border: none;\n",
              "      border-radius: 50%;\n",
              "      cursor: pointer;\n",
              "      display: none;\n",
              "      fill: #1967D2;\n",
              "      height: 32px;\n",
              "      padding: 0 0 0 0;\n",
              "      width: 32px;\n",
              "    }\n",
              "\n",
              "    .colab-df-convert:hover {\n",
              "      background-color: #E2EBFA;\n",
              "      box-shadow: 0px 1px 2px rgba(60, 64, 67, 0.3), 0px 1px 3px 1px rgba(60, 64, 67, 0.15);\n",
              "      fill: #174EA6;\n",
              "    }\n",
              "\n",
              "    .colab-df-buttons div {\n",
              "      margin-bottom: 4px;\n",
              "    }\n",
              "\n",
              "    [theme=dark] .colab-df-convert {\n",
              "      background-color: #3B4455;\n",
              "      fill: #D2E3FC;\n",
              "    }\n",
              "\n",
              "    [theme=dark] .colab-df-convert:hover {\n",
              "      background-color: #434B5C;\n",
              "      box-shadow: 0px 1px 3px 1px rgba(0, 0, 0, 0.15);\n",
              "      filter: drop-shadow(0px 1px 2px rgba(0, 0, 0, 0.3));\n",
              "      fill: #FFFFFF;\n",
              "    }\n",
              "  </style>\n",
              "\n",
              "    <script>\n",
              "      const buttonEl =\n",
              "        document.querySelector('#df-8e487315-3444-4628-a706-deeef6fcfba0 button.colab-df-convert');\n",
              "      buttonEl.style.display =\n",
              "        google.colab.kernel.accessAllowed ? 'block' : 'none';\n",
              "\n",
              "      async function convertToInteractive(key) {\n",
              "        const element = document.querySelector('#df-8e487315-3444-4628-a706-deeef6fcfba0');\n",
              "        const dataTable =\n",
              "          await google.colab.kernel.invokeFunction('convertToInteractive',\n",
              "                                                    [key], {});\n",
              "        if (!dataTable) return;\n",
              "\n",
              "        const docLinkHtml = 'Like what you see? Visit the ' +\n",
              "          '<a target=\"_blank\" href=https://colab.research.google.com/notebooks/data_table.ipynb>data table notebook</a>'\n",
              "          + ' to learn more about interactive tables.';\n",
              "        element.innerHTML = '';\n",
              "        dataTable['output_type'] = 'display_data';\n",
              "        await google.colab.output.renderOutput(dataTable, element);\n",
              "        const docLink = document.createElement('div');\n",
              "        docLink.innerHTML = docLinkHtml;\n",
              "        element.appendChild(docLink);\n",
              "      }\n",
              "    </script>\n",
              "  </div>\n",
              "\n",
              "\n",
              "<div id=\"df-00629791-f5bf-456b-b30c-6a4aa945af43\">\n",
              "  <button class=\"colab-df-quickchart\" onclick=\"quickchart('df-00629791-f5bf-456b-b30c-6a4aa945af43')\"\n",
              "            title=\"Suggest charts\"\n",
              "            style=\"display:none;\">\n",
              "\n",
              "<svg xmlns=\"http://www.w3.org/2000/svg\" height=\"24px\"viewBox=\"0 0 24 24\"\n",
              "     width=\"24px\">\n",
              "    <g>\n",
              "        <path d=\"M19 3H5c-1.1 0-2 .9-2 2v14c0 1.1.9 2 2 2h14c1.1 0 2-.9 2-2V5c0-1.1-.9-2-2-2zM9 17H7v-7h2v7zm4 0h-2V7h2v10zm4 0h-2v-4h2v4z\"/>\n",
              "    </g>\n",
              "</svg>\n",
              "  </button>\n",
              "\n",
              "<style>\n",
              "  .colab-df-quickchart {\n",
              "      --bg-color: #E8F0FE;\n",
              "      --fill-color: #1967D2;\n",
              "      --hover-bg-color: #E2EBFA;\n",
              "      --hover-fill-color: #174EA6;\n",
              "      --disabled-fill-color: #AAA;\n",
              "      --disabled-bg-color: #DDD;\n",
              "  }\n",
              "\n",
              "  [theme=dark] .colab-df-quickchart {\n",
              "      --bg-color: #3B4455;\n",
              "      --fill-color: #D2E3FC;\n",
              "      --hover-bg-color: #434B5C;\n",
              "      --hover-fill-color: #FFFFFF;\n",
              "      --disabled-bg-color: #3B4455;\n",
              "      --disabled-fill-color: #666;\n",
              "  }\n",
              "\n",
              "  .colab-df-quickchart {\n",
              "    background-color: var(--bg-color);\n",
              "    border: none;\n",
              "    border-radius: 50%;\n",
              "    cursor: pointer;\n",
              "    display: none;\n",
              "    fill: var(--fill-color);\n",
              "    height: 32px;\n",
              "    padding: 0;\n",
              "    width: 32px;\n",
              "  }\n",
              "\n",
              "  .colab-df-quickchart:hover {\n",
              "    background-color: var(--hover-bg-color);\n",
              "    box-shadow: 0 1px 2px rgba(60, 64, 67, 0.3), 0 1px 3px 1px rgba(60, 64, 67, 0.15);\n",
              "    fill: var(--button-hover-fill-color);\n",
              "  }\n",
              "\n",
              "  .colab-df-quickchart-complete:disabled,\n",
              "  .colab-df-quickchart-complete:disabled:hover {\n",
              "    background-color: var(--disabled-bg-color);\n",
              "    fill: var(--disabled-fill-color);\n",
              "    box-shadow: none;\n",
              "  }\n",
              "\n",
              "  .colab-df-spinner {\n",
              "    border: 2px solid var(--fill-color);\n",
              "    border-color: transparent;\n",
              "    border-bottom-color: var(--fill-color);\n",
              "    animation:\n",
              "      spin 1s steps(1) infinite;\n",
              "  }\n",
              "\n",
              "  @keyframes spin {\n",
              "    0% {\n",
              "      border-color: transparent;\n",
              "      border-bottom-color: var(--fill-color);\n",
              "      border-left-color: var(--fill-color);\n",
              "    }\n",
              "    20% {\n",
              "      border-color: transparent;\n",
              "      border-left-color: var(--fill-color);\n",
              "      border-top-color: var(--fill-color);\n",
              "    }\n",
              "    30% {\n",
              "      border-color: transparent;\n",
              "      border-left-color: var(--fill-color);\n",
              "      border-top-color: var(--fill-color);\n",
              "      border-right-color: var(--fill-color);\n",
              "    }\n",
              "    40% {\n",
              "      border-color: transparent;\n",
              "      border-right-color: var(--fill-color);\n",
              "      border-top-color: var(--fill-color);\n",
              "    }\n",
              "    60% {\n",
              "      border-color: transparent;\n",
              "      border-right-color: var(--fill-color);\n",
              "    }\n",
              "    80% {\n",
              "      border-color: transparent;\n",
              "      border-right-color: var(--fill-color);\n",
              "      border-bottom-color: var(--fill-color);\n",
              "    }\n",
              "    90% {\n",
              "      border-color: transparent;\n",
              "      border-bottom-color: var(--fill-color);\n",
              "    }\n",
              "  }\n",
              "</style>\n",
              "\n",
              "  <script>\n",
              "    async function quickchart(key) {\n",
              "      const quickchartButtonEl =\n",
              "        document.querySelector('#' + key + ' button');\n",
              "      quickchartButtonEl.disabled = true;  // To prevent multiple clicks.\n",
              "      quickchartButtonEl.classList.add('colab-df-spinner');\n",
              "      try {\n",
              "        const charts = await google.colab.kernel.invokeFunction(\n",
              "            'suggestCharts', [key], {});\n",
              "      } catch (error) {\n",
              "        console.error('Error during call to suggestCharts:', error);\n",
              "      }\n",
              "      quickchartButtonEl.classList.remove('colab-df-spinner');\n",
              "      quickchartButtonEl.classList.add('colab-df-quickchart-complete');\n",
              "    }\n",
              "    (() => {\n",
              "      let quickchartButtonEl =\n",
              "        document.querySelector('#df-00629791-f5bf-456b-b30c-6a4aa945af43 button');\n",
              "      quickchartButtonEl.style.display =\n",
              "        google.colab.kernel.accessAllowed ? 'block' : 'none';\n",
              "    })();\n",
              "  </script>\n",
              "</div>\n",
              "\n",
              "    </div>\n",
              "  </div>\n"
            ],
            "application/vnd.google.colaboratory.intrinsic+json": {
              "type": "dataframe",
              "variable_name": "df",
              "summary": "{\n  \"name\": \"df\",\n  \"rows\": 999,\n  \"fields\": [\n    {\n      \"column\": \"Unnamed: 0\",\n      \"properties\": {\n        \"dtype\": \"number\",\n        \"std\": 288,\n        \"min\": 0,\n        \"max\": 998,\n        \"num_unique_values\": 999,\n        \"samples\": [\n          453,\n          793,\n          209\n        ],\n        \"semantic_type\": \"\",\n        \"description\": \"\"\n      }\n    },\n    {\n      \"column\": \"asin\",\n      \"properties\": {\n        \"dtype\": \"category\",\n        \"num_unique_values\": 40,\n        \"samples\": [\n          \"7214047977\",\n          \"3930992868\",\n          \"3744295508\"\n        ],\n        \"semantic_type\": \"\",\n        \"description\": \"\"\n      }\n    },\n    {\n      \"column\": \"helpful\",\n      \"properties\": {\n        \"dtype\": \"category\",\n        \"num_unique_values\": 139,\n        \"samples\": [\n          \"[18, 19]\",\n          \"[10, 10]\",\n          \"[11, 20]\"\n        ],\n        \"semantic_type\": \"\",\n        \"description\": \"\"\n      }\n    },\n    {\n      \"column\": \"overall\",\n      \"properties\": {\n        \"dtype\": \"number\",\n        \"std\": 1.2794905290190781,\n        \"min\": 1.0,\n        \"max\": 5.0,\n        \"num_unique_values\": 5,\n        \"samples\": [\n          1.0,\n          4.0,\n          3.0\n        ],\n        \"semantic_type\": \"\",\n        \"description\": \"\"\n      }\n    },\n    {\n      \"column\": \"reviewText\",\n      \"properties\": {\n        \"dtype\": \"string\",\n        \"num_unique_values\": 997,\n        \"samples\": [\n          \"I bought this used but I was pleasantly surprised that it was like new. I rooted it and made itA Droid pad. I'm using it right now to write this. I like it better than my ipad.\",\n          \"The right charge slot works fine, but the left one insists on flashing (indicating bad cell) when ever I use it, even with cells that charge fine in the right slot.  Since I only need to charge one cell at a time, I can live with it, but it's peculiar.\",\n          \"used it for vizio 42&#34; tv. easy to install. fit perfectly. what is there else to say? strongly recommend for everyone.\"\n        ],\n        \"semantic_type\": \"\",\n        \"description\": \"\"\n      }\n    },\n    {\n      \"column\": \"reviewTime\",\n      \"properties\": {\n        \"dtype\": \"object\",\n        \"num_unique_values\": 724,\n        \"samples\": [\n          \"11 26, 2010\",\n          \"03 23, 2014\",\n          \"04 18, 2014\"\n        ],\n        \"semantic_type\": \"\",\n        \"description\": \"\"\n      }\n    },\n    {\n      \"column\": \"reviewerID\",\n      \"properties\": {\n        \"dtype\": \"string\",\n        \"num_unique_values\": 963,\n        \"samples\": [\n          \"A3M73KV733HBG3\",\n          \"A23ZWJ9CS8OG30\",\n          \"A3TF6A1YMYJQ9U\"\n        ],\n        \"semantic_type\": \"\",\n        \"description\": \"\"\n      }\n    },\n    {\n      \"column\": \"reviewerName\",\n      \"properties\": {\n        \"dtype\": \"string\",\n        \"num_unique_values\": 927,\n        \"samples\": [\n          \"nick m\",\n          \"Shinebox\",\n          \"B. Kilpatrick\"\n        ],\n        \"semantic_type\": \"\",\n        \"description\": \"\"\n      }\n    },\n    {\n      \"column\": \"summary\",\n      \"properties\": {\n        \"dtype\": \"string\",\n        \"num_unique_values\": 940,\n        \"samples\": [\n          \"Well worth every penny if rooted with Kit Kat\",\n          \"These mounts are amazing\",\n          \"Excellent!\"\n        ],\n        \"semantic_type\": \"\",\n        \"description\": \"\"\n      }\n    },\n    {\n      \"column\": \"unixReviewTime\",\n      \"properties\": {\n        \"dtype\": \"number\",\n        \"std\": 44080605.43469735,\n        \"min\": 958089600.0,\n        \"max\": 1405555200.0,\n        \"num_unique_values\": 724,\n        \"samples\": [\n          1290729600.0,\n          1395532800.0,\n          1397779200.0\n        ],\n        \"semantic_type\": \"\",\n        \"description\": \"\"\n      }\n    }\n  ]\n}"
            }
          },
          "metadata": {},
          "execution_count": 8
        }
      ]
    },
    {
      "cell_type": "code",
      "source": [
        "df.info()"
      ],
      "metadata": {
        "colab": {
          "base_uri": "https://localhost:8080/"
        },
        "id": "7eVdDR2gIJTd",
        "outputId": "332433ce-fac5-4ec6-8595-496718a94710"
      },
      "execution_count": 9,
      "outputs": [
        {
          "output_type": "stream",
          "name": "stdout",
          "text": [
            "<class 'pandas.core.frame.DataFrame'>\n",
            "RangeIndex: 999 entries, 0 to 998\n",
            "Data columns (total 10 columns):\n",
            " #   Column          Non-Null Count  Dtype  \n",
            "---  ------          --------------  -----  \n",
            " 0   Unnamed: 0      999 non-null    int64  \n",
            " 1   asin            999 non-null    object \n",
            " 2   helpful         999 non-null    object \n",
            " 3   overall         999 non-null    float64\n",
            " 4   reviewText      997 non-null    object \n",
            " 5   reviewTime      999 non-null    object \n",
            " 6   reviewerID      999 non-null    object \n",
            " 7   reviewerName    994 non-null    object \n",
            " 8   summary         999 non-null    object \n",
            " 9   unixReviewTime  999 non-null    float64\n",
            "dtypes: float64(2), int64(1), object(7)\n",
            "memory usage: 78.2+ KB\n"
          ]
        }
      ]
    },
    {
      "cell_type": "markdown",
      "source": [
        "##Text Processing"
      ],
      "metadata": {
        "id": "Sq8M6apwIkMw"
      }
    },
    {
      "cell_type": "code",
      "source": [
        "# Normalizing Case Folding\n",
        "df['reviewText'] = df['reviewText'].str.lower()\n",
        "\n",
        "# Punctuations\n",
        "df['reviewText'] = df['reviewText'].str.replace('[^\\w\\s]', '')\n",
        "\n",
        "# Numbers\n",
        "df['reviewText'] = df['reviewText'].str.replace('\\d', '')"
      ],
      "metadata": {
        "id": "CeE_cXeUIXod"
      },
      "execution_count": 10,
      "outputs": []
    },
    {
      "cell_type": "code",
      "source": [
        "import nltk"
      ],
      "metadata": {
        "id": "gv5ROFevJVC6"
      },
      "execution_count": 11,
      "outputs": []
    },
    {
      "cell_type": "code",
      "source": [
        "nltk.download('stopwords')"
      ],
      "metadata": {
        "colab": {
          "base_uri": "https://localhost:8080/"
        },
        "id": "42mRAJxOAugh",
        "outputId": "3ca54a8e-4986-45df-fecc-13ab836ae52b"
      },
      "execution_count": 12,
      "outputs": [
        {
          "output_type": "stream",
          "name": "stderr",
          "text": [
            "[nltk_data] Downloading package stopwords to /root/nltk_data...\n",
            "[nltk_data]   Unzipping corpora/stopwords.zip.\n"
          ]
        },
        {
          "output_type": "execute_result",
          "data": {
            "text/plain": [
              "True"
            ]
          },
          "metadata": {},
          "execution_count": 12
        }
      ]
    },
    {
      "cell_type": "code",
      "source": [
        "# Stopwords\n",
        "\n",
        "sw = stopwords.words('english')\n",
        "df['reviewText'] = df['reviewText'].apply(lambda x: \" \".join(x for x in str(x).split() if x not in sw))"
      ],
      "metadata": {
        "id": "PxyYsfZ_IpIH"
      },
      "execution_count": 13,
      "outputs": []
    },
    {
      "cell_type": "code",
      "source": [
        "# Rarewords\n",
        "\n",
        "drops = pd.Series(' '.join(df['reviewText']).split()).value_counts()[-1000:]\n",
        "df['reviewText'] = df['reviewText'].apply(lambda x: \" \".join(x for x in x.split() if x not in drops))"
      ],
      "metadata": {
        "id": "4yD0llImIsMv"
      },
      "execution_count": 14,
      "outputs": []
    },
    {
      "cell_type": "code",
      "source": [
        "nltk.download('punkt')"
      ],
      "metadata": {
        "colab": {
          "base_uri": "https://localhost:8080/"
        },
        "id": "E5TX53QkJ13J",
        "outputId": "d6bec23a-0d84-4271-ac26-2302346b8e33"
      },
      "execution_count": 15,
      "outputs": [
        {
          "output_type": "stream",
          "name": "stderr",
          "text": [
            "[nltk_data] Downloading package punkt to /root/nltk_data...\n",
            "[nltk_data]   Unzipping tokenizers/punkt.zip.\n"
          ]
        },
        {
          "output_type": "execute_result",
          "data": {
            "text/plain": [
              "True"
            ]
          },
          "metadata": {},
          "execution_count": 15
        }
      ]
    },
    {
      "cell_type": "code",
      "source": [
        "# Tokenization\n",
        "\n",
        "# nltk.download(\"punkt\")\n",
        "df[\"reviewText\"].apply(lambda x: TextBlob(x).words).head()"
      ],
      "metadata": {
        "colab": {
          "base_uri": "https://localhost:8080/"
        },
        "id": "dpO4pbdOJjyg",
        "outputId": "9e1354e0-3404-446f-e135-b2c21ca9891e"
      },
      "execution_count": 16,
      "outputs": [
        {
          "output_type": "execute_result",
          "data": {
            "text/plain": [
              "0    [got, gps, husband, otr, road, trucker, impres...\n",
              "1    [im, professional, otr, truck, driver, bought,...\n",
              "2    [well, say, ive, unit, truck, four, days, prio...\n",
              "3    [going, write, long, review, even, thought, un...\n",
              "4    [ive, mine, year, heres, got, tries, route, no...\n",
              "Name: reviewText, dtype: object"
            ]
          },
          "metadata": {},
          "execution_count": 16
        }
      ]
    },
    {
      "cell_type": "code",
      "source": [
        "nltk.download('wordnet')"
      ],
      "metadata": {
        "colab": {
          "base_uri": "https://localhost:8080/"
        },
        "id": "ydvreqIpKJIJ",
        "outputId": "e66468da-5849-4ece-f4fb-7daa27ae0e35"
      },
      "execution_count": 17,
      "outputs": [
        {
          "output_type": "stream",
          "name": "stderr",
          "text": [
            "[nltk_data] Downloading package wordnet to /root/nltk_data...\n"
          ]
        },
        {
          "output_type": "execute_result",
          "data": {
            "text/plain": [
              "True"
            ]
          },
          "metadata": {},
          "execution_count": 17
        }
      ]
    },
    {
      "cell_type": "code",
      "source": [
        "# Lemmatization\n",
        "\n",
        "# Kelimeleri köklerine ayırma işlemidir.\n",
        "# nltk.download('wordnet')\n",
        "df['reviewText'] = df['reviewText'].apply(lambda x: \" \".join([Word(word).lemmatize() for word in x.split()]))\n",
        "\n",
        "df['reviewText'].head(10)"
      ],
      "metadata": {
        "colab": {
          "base_uri": "https://localhost:8080/"
        },
        "id": "8qn4ghFWJngo",
        "outputId": "1beff046-76a6-41e7-bbe9-113a089317bb"
      },
      "execution_count": 18,
      "outputs": [
        {
          "output_type": "execute_result",
          "data": {
            "text/plain": [
              "0    got gps husband otr road trucker impressed shi...\n",
              "1    im professional otr truck driver bought tnd tr...\n",
              "2    well say ive unit truck four day prior garmin ...\n",
              "3    going write long review even thought unit dese...\n",
              "4    ive mine year here got try route non truck rou...\n",
              "5    using nook hd work described hd picture samsun...\n",
              "6    cable wobbly sometimes disconnect itselfthe pr...\n",
              "7    adaptor real easy setup use right box problem ...\n",
              "8    adapter easily connects nook hd hdtv hdmi cabl...\n",
              "9    product really work great found following item...\n",
              "Name: reviewText, dtype: object"
            ]
          },
          "metadata": {},
          "execution_count": 18
        }
      ]
    },
    {
      "cell_type": "markdown",
      "source": [
        "##Text Visualization"
      ],
      "metadata": {
        "id": "mua3u_HMKWdS"
      }
    },
    {
      "cell_type": "code",
      "source": [
        "tf = df[\"reviewText\"].apply(lambda x: pd.value_counts(x.split(\" \"))).sum(axis=0).reset_index()\n",
        "\n",
        "tf.columns = [\"words\", \"tf\"]\n",
        "tf.head()"
      ],
      "metadata": {
        "colab": {
          "base_uri": "https://localhost:8080/",
          "height": 206
        },
        "id": "COEVrKuXJ8kH",
        "outputId": "c6946d7c-476b-4fe8-d9af-ecfd7d9f6c0b"
      },
      "execution_count": 19,
      "outputs": [
        {
          "output_type": "execute_result",
          "data": {
            "text/plain": [
              "      words     tf\n",
              "0    worked  98.00\n",
              "1    within  23.00\n",
              "2  freezing   4.00\n",
              "3      ease  22.00\n",
              "4     great 422.00"
            ],
            "text/html": [
              "\n",
              "  <div id=\"df-98e2ecec-b38b-493e-b664-45a1412603a7\" class=\"colab-df-container\">\n",
              "    <div>\n",
              "<style scoped>\n",
              "    .dataframe tbody tr th:only-of-type {\n",
              "        vertical-align: middle;\n",
              "    }\n",
              "\n",
              "    .dataframe tbody tr th {\n",
              "        vertical-align: top;\n",
              "    }\n",
              "\n",
              "    .dataframe thead th {\n",
              "        text-align: right;\n",
              "    }\n",
              "</style>\n",
              "<table border=\"1\" class=\"dataframe\">\n",
              "  <thead>\n",
              "    <tr style=\"text-align: right;\">\n",
              "      <th></th>\n",
              "      <th>words</th>\n",
              "      <th>tf</th>\n",
              "    </tr>\n",
              "  </thead>\n",
              "  <tbody>\n",
              "    <tr>\n",
              "      <th>0</th>\n",
              "      <td>worked</td>\n",
              "      <td>98.00</td>\n",
              "    </tr>\n",
              "    <tr>\n",
              "      <th>1</th>\n",
              "      <td>within</td>\n",
              "      <td>23.00</td>\n",
              "    </tr>\n",
              "    <tr>\n",
              "      <th>2</th>\n",
              "      <td>freezing</td>\n",
              "      <td>4.00</td>\n",
              "    </tr>\n",
              "    <tr>\n",
              "      <th>3</th>\n",
              "      <td>ease</td>\n",
              "      <td>22.00</td>\n",
              "    </tr>\n",
              "    <tr>\n",
              "      <th>4</th>\n",
              "      <td>great</td>\n",
              "      <td>422.00</td>\n",
              "    </tr>\n",
              "  </tbody>\n",
              "</table>\n",
              "</div>\n",
              "    <div class=\"colab-df-buttons\">\n",
              "\n",
              "  <div class=\"colab-df-container\">\n",
              "    <button class=\"colab-df-convert\" onclick=\"convertToInteractive('df-98e2ecec-b38b-493e-b664-45a1412603a7')\"\n",
              "            title=\"Convert this dataframe to an interactive table.\"\n",
              "            style=\"display:none;\">\n",
              "\n",
              "  <svg xmlns=\"http://www.w3.org/2000/svg\" height=\"24px\" viewBox=\"0 -960 960 960\">\n",
              "    <path d=\"M120-120v-720h720v720H120Zm60-500h600v-160H180v160Zm220 220h160v-160H400v160Zm0 220h160v-160H400v160ZM180-400h160v-160H180v160Zm440 0h160v-160H620v160ZM180-180h160v-160H180v160Zm440 0h160v-160H620v160Z\"/>\n",
              "  </svg>\n",
              "    </button>\n",
              "\n",
              "  <style>\n",
              "    .colab-df-container {\n",
              "      display:flex;\n",
              "      gap: 12px;\n",
              "    }\n",
              "\n",
              "    .colab-df-convert {\n",
              "      background-color: #E8F0FE;\n",
              "      border: none;\n",
              "      border-radius: 50%;\n",
              "      cursor: pointer;\n",
              "      display: none;\n",
              "      fill: #1967D2;\n",
              "      height: 32px;\n",
              "      padding: 0 0 0 0;\n",
              "      width: 32px;\n",
              "    }\n",
              "\n",
              "    .colab-df-convert:hover {\n",
              "      background-color: #E2EBFA;\n",
              "      box-shadow: 0px 1px 2px rgba(60, 64, 67, 0.3), 0px 1px 3px 1px rgba(60, 64, 67, 0.15);\n",
              "      fill: #174EA6;\n",
              "    }\n",
              "\n",
              "    .colab-df-buttons div {\n",
              "      margin-bottom: 4px;\n",
              "    }\n",
              "\n",
              "    [theme=dark] .colab-df-convert {\n",
              "      background-color: #3B4455;\n",
              "      fill: #D2E3FC;\n",
              "    }\n",
              "\n",
              "    [theme=dark] .colab-df-convert:hover {\n",
              "      background-color: #434B5C;\n",
              "      box-shadow: 0px 1px 3px 1px rgba(0, 0, 0, 0.15);\n",
              "      filter: drop-shadow(0px 1px 2px rgba(0, 0, 0, 0.3));\n",
              "      fill: #FFFFFF;\n",
              "    }\n",
              "  </style>\n",
              "\n",
              "    <script>\n",
              "      const buttonEl =\n",
              "        document.querySelector('#df-98e2ecec-b38b-493e-b664-45a1412603a7 button.colab-df-convert');\n",
              "      buttonEl.style.display =\n",
              "        google.colab.kernel.accessAllowed ? 'block' : 'none';\n",
              "\n",
              "      async function convertToInteractive(key) {\n",
              "        const element = document.querySelector('#df-98e2ecec-b38b-493e-b664-45a1412603a7');\n",
              "        const dataTable =\n",
              "          await google.colab.kernel.invokeFunction('convertToInteractive',\n",
              "                                                    [key], {});\n",
              "        if (!dataTable) return;\n",
              "\n",
              "        const docLinkHtml = 'Like what you see? Visit the ' +\n",
              "          '<a target=\"_blank\" href=https://colab.research.google.com/notebooks/data_table.ipynb>data table notebook</a>'\n",
              "          + ' to learn more about interactive tables.';\n",
              "        element.innerHTML = '';\n",
              "        dataTable['output_type'] = 'display_data';\n",
              "        await google.colab.output.renderOutput(dataTable, element);\n",
              "        const docLink = document.createElement('div');\n",
              "        docLink.innerHTML = docLinkHtml;\n",
              "        element.appendChild(docLink);\n",
              "      }\n",
              "    </script>\n",
              "  </div>\n",
              "\n",
              "\n",
              "<div id=\"df-0b0a53a7-c478-43e9-9da0-aeb94bc217de\">\n",
              "  <button class=\"colab-df-quickchart\" onclick=\"quickchart('df-0b0a53a7-c478-43e9-9da0-aeb94bc217de')\"\n",
              "            title=\"Suggest charts\"\n",
              "            style=\"display:none;\">\n",
              "\n",
              "<svg xmlns=\"http://www.w3.org/2000/svg\" height=\"24px\"viewBox=\"0 0 24 24\"\n",
              "     width=\"24px\">\n",
              "    <g>\n",
              "        <path d=\"M19 3H5c-1.1 0-2 .9-2 2v14c0 1.1.9 2 2 2h14c1.1 0 2-.9 2-2V5c0-1.1-.9-2-2-2zM9 17H7v-7h2v7zm4 0h-2V7h2v10zm4 0h-2v-4h2v4z\"/>\n",
              "    </g>\n",
              "</svg>\n",
              "  </button>\n",
              "\n",
              "<style>\n",
              "  .colab-df-quickchart {\n",
              "      --bg-color: #E8F0FE;\n",
              "      --fill-color: #1967D2;\n",
              "      --hover-bg-color: #E2EBFA;\n",
              "      --hover-fill-color: #174EA6;\n",
              "      --disabled-fill-color: #AAA;\n",
              "      --disabled-bg-color: #DDD;\n",
              "  }\n",
              "\n",
              "  [theme=dark] .colab-df-quickchart {\n",
              "      --bg-color: #3B4455;\n",
              "      --fill-color: #D2E3FC;\n",
              "      --hover-bg-color: #434B5C;\n",
              "      --hover-fill-color: #FFFFFF;\n",
              "      --disabled-bg-color: #3B4455;\n",
              "      --disabled-fill-color: #666;\n",
              "  }\n",
              "\n",
              "  .colab-df-quickchart {\n",
              "    background-color: var(--bg-color);\n",
              "    border: none;\n",
              "    border-radius: 50%;\n",
              "    cursor: pointer;\n",
              "    display: none;\n",
              "    fill: var(--fill-color);\n",
              "    height: 32px;\n",
              "    padding: 0;\n",
              "    width: 32px;\n",
              "  }\n",
              "\n",
              "  .colab-df-quickchart:hover {\n",
              "    background-color: var(--hover-bg-color);\n",
              "    box-shadow: 0 1px 2px rgba(60, 64, 67, 0.3), 0 1px 3px 1px rgba(60, 64, 67, 0.15);\n",
              "    fill: var(--button-hover-fill-color);\n",
              "  }\n",
              "\n",
              "  .colab-df-quickchart-complete:disabled,\n",
              "  .colab-df-quickchart-complete:disabled:hover {\n",
              "    background-color: var(--disabled-bg-color);\n",
              "    fill: var(--disabled-fill-color);\n",
              "    box-shadow: none;\n",
              "  }\n",
              "\n",
              "  .colab-df-spinner {\n",
              "    border: 2px solid var(--fill-color);\n",
              "    border-color: transparent;\n",
              "    border-bottom-color: var(--fill-color);\n",
              "    animation:\n",
              "      spin 1s steps(1) infinite;\n",
              "  }\n",
              "\n",
              "  @keyframes spin {\n",
              "    0% {\n",
              "      border-color: transparent;\n",
              "      border-bottom-color: var(--fill-color);\n",
              "      border-left-color: var(--fill-color);\n",
              "    }\n",
              "    20% {\n",
              "      border-color: transparent;\n",
              "      border-left-color: var(--fill-color);\n",
              "      border-top-color: var(--fill-color);\n",
              "    }\n",
              "    30% {\n",
              "      border-color: transparent;\n",
              "      border-left-color: var(--fill-color);\n",
              "      border-top-color: var(--fill-color);\n",
              "      border-right-color: var(--fill-color);\n",
              "    }\n",
              "    40% {\n",
              "      border-color: transparent;\n",
              "      border-right-color: var(--fill-color);\n",
              "      border-top-color: var(--fill-color);\n",
              "    }\n",
              "    60% {\n",
              "      border-color: transparent;\n",
              "      border-right-color: var(--fill-color);\n",
              "    }\n",
              "    80% {\n",
              "      border-color: transparent;\n",
              "      border-right-color: var(--fill-color);\n",
              "      border-bottom-color: var(--fill-color);\n",
              "    }\n",
              "    90% {\n",
              "      border-color: transparent;\n",
              "      border-bottom-color: var(--fill-color);\n",
              "    }\n",
              "  }\n",
              "</style>\n",
              "\n",
              "  <script>\n",
              "    async function quickchart(key) {\n",
              "      const quickchartButtonEl =\n",
              "        document.querySelector('#' + key + ' button');\n",
              "      quickchartButtonEl.disabled = true;  // To prevent multiple clicks.\n",
              "      quickchartButtonEl.classList.add('colab-df-spinner');\n",
              "      try {\n",
              "        const charts = await google.colab.kernel.invokeFunction(\n",
              "            'suggestCharts', [key], {});\n",
              "      } catch (error) {\n",
              "        console.error('Error during call to suggestCharts:', error);\n",
              "      }\n",
              "      quickchartButtonEl.classList.remove('colab-df-spinner');\n",
              "      quickchartButtonEl.classList.add('colab-df-quickchart-complete');\n",
              "    }\n",
              "    (() => {\n",
              "      let quickchartButtonEl =\n",
              "        document.querySelector('#df-0b0a53a7-c478-43e9-9da0-aeb94bc217de button');\n",
              "      quickchartButtonEl.style.display =\n",
              "        google.colab.kernel.accessAllowed ? 'block' : 'none';\n",
              "    })();\n",
              "  </script>\n",
              "</div>\n",
              "\n",
              "    </div>\n",
              "  </div>\n"
            ],
            "application/vnd.google.colaboratory.intrinsic+json": {
              "type": "dataframe",
              "variable_name": "tf",
              "summary": "{\n  \"name\": \"tf\",\n  \"rows\": 7739,\n  \"fields\": [\n    {\n      \"column\": \"words\",\n      \"properties\": {\n        \"dtype\": \"string\",\n        \"num_unique_values\": 7739,\n        \"samples\": [\n          \"plywood\",\n          \"shipment\",\n          \"morethe\"\n        ],\n        \"semantic_type\": \"\",\n        \"description\": \"\"\n      }\n    },\n    {\n      \"column\": \"tf\",\n      \"properties\": {\n        \"dtype\": \"number\",\n        \"std\": 36.47088737853051,\n        \"min\": 1.0,\n        \"max\": 1516.0,\n        \"num_unique_values\": 188,\n        \"samples\": [\n          232.0,\n          121.0,\n          498.0\n        ],\n        \"semantic_type\": \"\",\n        \"description\": \"\"\n      }\n    }\n  ]\n}"
            }
          },
          "metadata": {},
          "execution_count": 19
        }
      ]
    },
    {
      "cell_type": "code",
      "source": [
        "tf.shape"
      ],
      "metadata": {
        "colab": {
          "base_uri": "https://localhost:8080/"
        },
        "id": "isvJk8eGKctM",
        "outputId": "ce11bf5b-a9be-4ace-a020-b95629461234"
      },
      "execution_count": 20,
      "outputs": [
        {
          "output_type": "execute_result",
          "data": {
            "text/plain": [
              "(7739, 2)"
            ]
          },
          "metadata": {},
          "execution_count": 20
        }
      ]
    },
    {
      "cell_type": "code",
      "source": [
        "tf[\"words\"].nunique()"
      ],
      "metadata": {
        "colab": {
          "base_uri": "https://localhost:8080/"
        },
        "id": "lTzpEva-KvaI",
        "outputId": "6cf9955b-7e28-44ed-dc78-c3f99ebd5f21"
      },
      "execution_count": 21,
      "outputs": [
        {
          "output_type": "execute_result",
          "data": {
            "text/plain": [
              "7739"
            ]
          },
          "metadata": {},
          "execution_count": 21
        }
      ]
    },
    {
      "cell_type": "code",
      "source": [
        "tf[\"tf\"].describe([0.05, 0.10, 0.25, 0.50, 0.75, 0.80, 0.90, 0.95, 0.99]).T"
      ],
      "metadata": {
        "colab": {
          "base_uri": "https://localhost:8080/"
        },
        "id": "s3l5BkPnKz0d",
        "outputId": "fc0115a8-e1be-4c89-fb2e-acabd11aa500"
      },
      "execution_count": 22,
      "outputs": [
        {
          "output_type": "execute_result",
          "data": {
            "text/plain": [
              "count   7739.00\n",
              "mean       9.28\n",
              "std       36.47\n",
              "min        1.00\n",
              "5%         1.00\n",
              "10%        1.00\n",
              "25%        1.00\n",
              "50%        1.00\n",
              "75%        5.00\n",
              "80%        6.00\n",
              "90%       18.00\n",
              "95%       37.10\n",
              "99%      139.86\n",
              "max     1516.00\n",
              "Name: tf, dtype: float64"
            ]
          },
          "metadata": {},
          "execution_count": 22
        }
      ]
    },
    {
      "cell_type": "code",
      "source": [
        "# Barplot\n",
        "\n",
        "tf[tf[\"tf\"] > 500].plot.bar(x=\"words\", y=\"tf\")\n",
        "plt.show()"
      ],
      "metadata": {
        "colab": {
          "base_uri": "https://localhost:8080/",
          "height": 477
        },
        "id": "AMHyZtZMK4Er",
        "outputId": "e698f9f4-e617-4ae1-da20-143e977196d3"
      },
      "execution_count": 23,
      "outputs": [
        {
          "output_type": "display_data",
          "data": {
            "text/plain": [
              "<Figure size 640x480 with 1 Axes>"
            ],
            "image/png": "[encoded data removed]"
          },
          "metadata": {}
        }
      ]
    },
    {
      "cell_type": "code",
      "source": [
        "# Wordcloud\n",
        "\n",
        "text = \" \".join(i for i in df.reviewText)\n",
        "wordcloud = WordCloud().generate(text)\n",
        "plt.imshow(wordcloud, interpolation=\"bilinear\")\n",
        "plt.axis(\"off\")\n",
        "plt.show()"
      ],
      "metadata": {
        "colab": {
          "base_uri": "https://localhost:8080/",
          "height": 285
        },
        "id": "SGU4NztKK908",
        "outputId": "5eed4210-ba61-4929-814e-313179abe1de"
      },
      "execution_count": 24,
      "outputs": [
        {
          "output_type": "display_data",
          "data": {
            "text/plain": [
              "<Figure size 640x480 with 1 Axes>"
            ],
            "image/png": "[encoded data removed]"
          },
          "metadata": {}
        }
      ]
    },
    {
      "cell_type": "code",
      "source": [
        "wordcloud = WordCloud(max_font_size=50,\n",
        "                      max_words=100,\n",
        "                      background_color=\"white\").generate(text)\n",
        "plt.figure()\n",
        "plt.imshow(wordcloud, interpolation=\"bilinear\")\n",
        "plt.axis(\"off\")\n",
        "plt.show()\n",
        "\n",
        "wordcloud.to_file(\"wordcloud.png\")"
      ],
      "metadata": {
        "colab": {
          "base_uri": "https://localhost:8080/",
          "height": 303
        },
        "id": "jx5EAXWgLDjs",
        "outputId": "c3df6f39-b758-481d-84c5-53e0ffefdd4a"
      },
      "execution_count": 25,
      "outputs": [
        {
          "output_type": "display_data",
          "data": {
            "text/plain": [
              "<Figure size 640x480 with 1 Axes>"
            ],
            "image/png": "[encoded data removed]"
          },
          "metadata": {}
        },
        {
          "output_type": "execute_result",
          "data": {
            "text/plain": [
              "<wordcloud.wordcloud.WordCloud at 0x7a2916af71c0>"
            ]
          },
          "metadata": {},
          "execution_count": 25
        }
      ]
    },
    {
      "cell_type": "markdown",
      "source": [
        "##Sentiment Analysis"
      ],
      "metadata": {
        "id": "xHx2RGP2LYbL"
      }
    },
    {
      "cell_type": "code",
      "source": [
        "df.head()"
      ],
      "metadata": {
        "colab": {
          "base_uri": "https://localhost:8080/",
          "height": 310
        },
        "id": "hadMTSrRLMdX",
        "outputId": "0661905e-00ce-42ad-eb76-c58f8e5d96ef"
      },
      "execution_count": 26,
      "outputs": [
        {
          "output_type": "execute_result",
          "data": {
            "text/plain": [
              "   Unnamed: 0        asin   helpful  overall                                         reviewText   reviewTime      reviewerID              reviewerName                                 summary  \\\n",
              "0           0  0528881469    [0, 0]     5.00  got gps husband otr road trucker impressed shi...   06 2, 2013   AO94DHGC771SJ                   amazdnu                         Gotta have GPS!   \n",
              "1           1  0528881469  [12, 15]     1.00  im professional otr truck driver bought tnd tr...  11 25, 2010   AMO214LNFCEI4           Amazon Customer                       Very Disappointed   \n",
              "2           2  0528881469  [43, 45]     3.00  well say ive unit truck four day prior garmin ...   09 9, 2010  A3N7T0DY83Y4IG             C. A. Freeman                          1st impression   \n",
              "3           3  0528881469   [9, 10]     2.00  going write long review even thought unit dese...  11 24, 2010  A1H8PY3QHMQQA0  Dave M. Shaw \"mack dave\"                 Great grafics, POOR GPS   \n",
              "4           4  0528881469    [0, 0]     1.00  ive mine year here got try route non truck rou...  09 29, 2011  A24EV6RXELQZ63               Wayne Smith  Major issues, only excuses for support   \n",
              "\n",
              "   unixReviewTime  \n",
              "0   1370131200.00  \n",
              "1   1290643200.00  \n",
              "2   1283990400.00  \n",
              "3   1290556800.00  \n",
              "4   1317254400.00  "
            ],
            "text/html": [
              "\n",
              "  <div id=\"df-d3035e89-b34a-491b-b86b-fda522d22a20\" class=\"colab-df-container\">\n",
              "    <div>\n",
              "<style scoped>\n",
              "    .dataframe tbody tr th:only-of-type {\n",
              "        vertical-align: middle;\n",
              "    }\n",
              "\n",
              "    .dataframe tbody tr th {\n",
              "        vertical-align: top;\n",
              "    }\n",
              "\n",
              "    .dataframe thead th {\n",
              "        text-align: right;\n",
              "    }\n",
              "</style>\n",
              "<table border=\"1\" class=\"dataframe\">\n",
              "  <thead>\n",
              "    <tr style=\"text-align: right;\">\n",
              "      <th></th>\n",
              "      <th>Unnamed: 0</th>\n",
              "      <th>asin</th>\n",
              "      <th>helpful</th>\n",
              "      <th>overall</th>\n",
              "      <th>reviewText</th>\n",
              "      <th>reviewTime</th>\n",
              "      <th>reviewerID</th>\n",
              "      <th>reviewerName</th>\n",
              "      <th>summary</th>\n",
              "      <th>unixReviewTime</th>\n",
              "    </tr>\n",
              "  </thead>\n",
              "  <tbody>\n",
              "    <tr>\n",
              "      <th>0</th>\n",
              "      <td>0</td>\n",
              "      <td>0528881469</td>\n",
              "      <td>[0, 0]</td>\n",
              "      <td>5.00</td>\n",
              "      <td>got gps husband otr road trucker impressed shi...</td>\n",
              "      <td>06 2, 2013</td>\n",
              "      <td>AO94DHGC771SJ</td>\n",
              "      <td>amazdnu</td>\n",
              "      <td>Gotta have GPS!</td>\n",
              "      <td>1370131200.00</td>\n",
              "    </tr>\n",
              "    <tr>\n",
              "      <th>1</th>\n",
              "      <td>1</td>\n",
              "      <td>0528881469</td>\n",
              "      <td>[12, 15]</td>\n",
              "      <td>1.00</td>\n",
              "      <td>im professional otr truck driver bought tnd tr...</td>\n",
              "      <td>11 25, 2010</td>\n",
              "      <td>AMO214LNFCEI4</td>\n",
              "      <td>Amazon Customer</td>\n",
              "      <td>Very Disappointed</td>\n",
              "      <td>1290643200.00</td>\n",
              "    </tr>\n",
              "    <tr>\n",
              "      <th>2</th>\n",
              "      <td>2</td>\n",
              "      <td>0528881469</td>\n",
              "      <td>[43, 45]</td>\n",
              "      <td>3.00</td>\n",
              "      <td>well say ive unit truck four day prior garmin ...</td>\n",
              "      <td>09 9, 2010</td>\n",
              "      <td>A3N7T0DY83Y4IG</td>\n",
              "      <td>C. A. Freeman</td>\n",
              "      <td>1st impression</td>\n",
              "      <td>1283990400.00</td>\n",
              "    </tr>\n",
              "    <tr>\n",
              "      <th>3</th>\n",
              "      <td>3</td>\n",
              "      <td>0528881469</td>\n",
              "      <td>[9, 10]</td>\n",
              "      <td>2.00</td>\n",
              "      <td>going write long review even thought unit dese...</td>\n",
              "      <td>11 24, 2010</td>\n",
              "      <td>A1H8PY3QHMQQA0</td>\n",
              "      <td>Dave M. Shaw \"mack dave\"</td>\n",
              "      <td>Great grafics, POOR GPS</td>\n",
              "      <td>1290556800.00</td>\n",
              "    </tr>\n",
              "    <tr>\n",
              "      <th>4</th>\n",
              "      <td>4</td>\n",
              "      <td>0528881469</td>\n",
              "      <td>[0, 0]</td>\n",
              "      <td>1.00</td>\n",
              "      <td>ive mine year here got try route non truck rou...</td>\n",
              "      <td>09 29, 2011</td>\n",
              "      <td>A24EV6RXELQZ63</td>\n",
              "      <td>Wayne Smith</td>\n",
              "      <td>Major issues, only excuses for support</td>\n",
              "      <td>1317254400.00</td>\n",
              "    </tr>\n",
              "  </tbody>\n",
              "</table>\n",
              "</div>\n",
              "    <div class=\"colab-df-buttons\">\n",
              "\n",
              "  <div class=\"colab-df-container\">\n",
              "    <button class=\"colab-df-convert\" onclick=\"convertToInteractive('df-d3035e89-b34a-491b-b86b-fda522d22a20')\"\n",
              "            title=\"Convert this dataframe to an interactive table.\"\n",
              "            style=\"display:none;\">\n",
              "\n",
              "  <svg xmlns=\"http://www.w3.org/2000/svg\" height=\"24px\" viewBox=\"0 -960 960 960\">\n",
              "    <path d=\"M120-120v-720h720v720H120Zm60-500h600v-160H180v160Zm220 220h160v-160H400v160Zm0 220h160v-160H400v160ZM180-400h160v-160H180v160Zm440 0h160v-160H620v160ZM180-180h160v-160H180v160Zm440 0h160v-160H620v160Z\"/>\n",
              "  </svg>\n",
              "    </button>\n",
              "\n",
              "  <style>\n",
              "    .colab-df-container {\n",
              "      display:flex;\n",
              "      gap: 12px;\n",
              "    }\n",
              "\n",
              "    .colab-df-convert {\n",
              "      background-color: #E8F0FE;\n",
              "      border: none;\n",
              "      border-radius: 50%;\n",
              "      cursor: pointer;\n",
              "      display: none;\n",
              "      fill: #1967D2;\n",
              "      height: 32px;\n",
              "      padding: 0 0 0 0;\n",
              "      width: 32px;\n",
              "    }\n",
              "\n",
              "    .colab-df-convert:hover {\n",
              "      background-color: #E2EBFA;\n",
              "      box-shadow: 0px 1px 2px rgba(60, 64, 67, 0.3), 0px 1px 3px 1px rgba(60, 64, 67, 0.15);\n",
              "      fill: #174EA6;\n",
              "    }\n",
              "\n",
              "    .colab-df-buttons div {\n",
              "      margin-bottom: 4px;\n",
              "    }\n",
              "\n",
              "    [theme=dark] .colab-df-convert {\n",
              "      background-color: #3B4455;\n",
              "      fill: #D2E3FC;\n",
              "    }\n",
              "\n",
              "    [theme=dark] .colab-df-convert:hover {\n",
              "      background-color: #434B5C;\n",
              "      box-shadow: 0px 1px 3px 1px rgba(0, 0, 0, 0.15);\n",
              "      filter: drop-shadow(0px 1px 2px rgba(0, 0, 0, 0.3));\n",
              "      fill: #FFFFFF;\n",
              "    }\n",
              "  </style>\n",
              "\n",
              "    <script>\n",
              "      const buttonEl =\n",
              "        document.querySelector('#df-d3035e89-b34a-491b-b86b-fda522d22a20 button.colab-df-convert');\n",
              "      buttonEl.style.display =\n",
              "        google.colab.kernel.accessAllowed ? 'block' : 'none';\n",
              "\n",
              "      async function convertToInteractive(key) {\n",
              "        const element = document.querySelector('#df-d3035e89-b34a-491b-b86b-fda522d22a20');\n",
              "        const dataTable =\n",
              "          await google.colab.kernel.invokeFunction('convertToInteractive',\n",
              "                                                    [key], {});\n",
              "        if (!dataTable) return;\n",
              "\n",
              "        const docLinkHtml = 'Like what you see? Visit the ' +\n",
              "          '<a target=\"_blank\" href=https://colab.research.google.com/notebooks/data_table.ipynb>data table notebook</a>'\n",
              "          + ' to learn more about interactive tables.';\n",
              "        element.innerHTML = '';\n",
              "        dataTable['output_type'] = 'display_data';\n",
              "        await google.colab.output.renderOutput(dataTable, element);\n",
              "        const docLink = document.createElement('div');\n",
              "        docLink.innerHTML = docLinkHtml;\n",
              "        element.appendChild(docLink);\n",
              "      }\n",
              "    </script>\n",
              "  </div>\n",
              "\n",
              "\n",
              "<div id=\"df-ab905e9e-501f-4032-8c64-b339f2585fcc\">\n",
              "  <button class=\"colab-df-quickchart\" onclick=\"quickchart('df-ab905e9e-501f-4032-8c64-b339f2585fcc')\"\n",
              "            title=\"Suggest charts\"\n",
              "            style=\"display:none;\">\n",
              "\n",
              "<svg xmlns=\"http://www.w3.org/2000/svg\" height=\"24px\"viewBox=\"0 0 24 24\"\n",
              "     width=\"24px\">\n",
              "    <g>\n",
              "        <path d=\"M19 3H5c-1.1 0-2 .9-2 2v14c0 1.1.9 2 2 2h14c1.1 0 2-.9 2-2V5c0-1.1-.9-2-2-2zM9 17H7v-7h2v7zm4 0h-2V7h2v10zm4 0h-2v-4h2v4z\"/>\n",
              "    </g>\n",
              "</svg>\n",
              "  </button>\n",
              "\n",
              "<style>\n",
              "  .colab-df-quickchart {\n",
              "      --bg-color: #E8F0FE;\n",
              "      --fill-color: #1967D2;\n",
              "      --hover-bg-color: #E2EBFA;\n",
              "      --hover-fill-color: #174EA6;\n",
              "      --disabled-fill-color: #AAA;\n",
              "      --disabled-bg-color: #DDD;\n",
              "  }\n",
              "\n",
              "  [theme=dark] .colab-df-quickchart {\n",
              "      --bg-color: #3B4455;\n",
              "      --fill-color: #D2E3FC;\n",
              "      --hover-bg-color: #434B5C;\n",
              "      --hover-fill-color: #FFFFFF;\n",
              "      --disabled-bg-color: #3B4455;\n",
              "      --disabled-fill-color: #666;\n",
              "  }\n",
              "\n",
              "  .colab-df-quickchart {\n",
              "    background-color: var(--bg-color);\n",
              "    border: none;\n",
              "    border-radius: 50%;\n",
              "    cursor: pointer;\n",
              "    display: none;\n",
              "    fill: var(--fill-color);\n",
              "    height: 32px;\n",
              "    padding: 0;\n",
              "    width: 32px;\n",
              "  }\n",
              "\n",
              "  .colab-df-quickchart:hover {\n",
              "    background-color: var(--hover-bg-color);\n",
              "    box-shadow: 0 1px 2px rgba(60, 64, 67, 0.3), 0 1px 3px 1px rgba(60, 64, 67, 0.15);\n",
              "    fill: var(--button-hover-fill-color);\n",
              "  }\n",
              "\n",
              "  .colab-df-quickchart-complete:disabled,\n",
              "  .colab-df-quickchart-complete:disabled:hover {\n",
              "    background-color: var(--disabled-bg-color);\n",
              "    fill: var(--disabled-fill-color);\n",
              "    box-shadow: none;\n",
              "  }\n",
              "\n",
              "  .colab-df-spinner {\n",
              "    border: 2px solid var(--fill-color);\n",
              "    border-color: transparent;\n",
              "    border-bottom-color: var(--fill-color);\n",
              "    animation:\n",
              "      spin 1s steps(1) infinite;\n",
              "  }\n",
              "\n",
              "  @keyframes spin {\n",
              "    0% {\n",
              "      border-color: transparent;\n",
              "      border-bottom-color: var(--fill-color);\n",
              "      border-left-color: var(--fill-color);\n",
              "    }\n",
              "    20% {\n",
              "      border-color: transparent;\n",
              "      border-left-color: var(--fill-color);\n",
              "      border-top-color: var(--fill-color);\n",
              "    }\n",
              "    30% {\n",
              "      border-color: transparent;\n",
              "      border-left-color: var(--fill-color);\n",
              "      border-top-color: var(--fill-color);\n",
              "      border-right-color: var(--fill-color);\n",
              "    }\n",
              "    40% {\n",
              "      border-color: transparent;\n",
              "      border-right-color: var(--fill-color);\n",
              "      border-top-color: var(--fill-color);\n",
              "    }\n",
              "    60% {\n",
              "      border-color: transparent;\n",
              "      border-right-color: var(--fill-color);\n",
              "    }\n",
              "    80% {\n",
              "      border-color: transparent;\n",
              "      border-right-color: var(--fill-color);\n",
              "      border-bottom-color: var(--fill-color);\n",
              "    }\n",
              "    90% {\n",
              "      border-color: transparent;\n",
              "      border-bottom-color: var(--fill-color);\n",
              "    }\n",
              "  }\n",
              "</style>\n",
              "\n",
              "  <script>\n",
              "    async function quickchart(key) {\n",
              "      const quickchartButtonEl =\n",
              "        document.querySelector('#' + key + ' button');\n",
              "      quickchartButtonEl.disabled = true;  // To prevent multiple clicks.\n",
              "      quickchartButtonEl.classList.add('colab-df-spinner');\n",
              "      try {\n",
              "        const charts = await google.colab.kernel.invokeFunction(\n",
              "            'suggestCharts', [key], {});\n",
              "      } catch (error) {\n",
              "        console.error('Error during call to suggestCharts:', error);\n",
              "      }\n",
              "      quickchartButtonEl.classList.remove('colab-df-spinner');\n",
              "      quickchartButtonEl.classList.add('colab-df-quickchart-complete');\n",
              "    }\n",
              "    (() => {\n",
              "      let quickchartButtonEl =\n",
              "        document.querySelector('#df-ab905e9e-501f-4032-8c64-b339f2585fcc button');\n",
              "      quickchartButtonEl.style.display =\n",
              "        google.colab.kernel.accessAllowed ? 'block' : 'none';\n",
              "    })();\n",
              "  </script>\n",
              "</div>\n",
              "\n",
              "    </div>\n",
              "  </div>\n"
            ],
            "application/vnd.google.colaboratory.intrinsic+json": {
              "type": "dataframe",
              "variable_name": "df",
              "summary": "{\n  \"name\": \"df\",\n  \"rows\": 999,\n  \"fields\": [\n    {\n      \"column\": \"Unnamed: 0\",\n      \"properties\": {\n        \"dtype\": \"number\",\n        \"std\": 288,\n        \"min\": 0,\n        \"max\": 998,\n        \"num_unique_values\": 999,\n        \"samples\": [\n          453,\n          793,\n          209\n        ],\n        \"semantic_type\": \"\",\n        \"description\": \"\"\n      }\n    },\n    {\n      \"column\": \"asin\",\n      \"properties\": {\n        \"dtype\": \"category\",\n        \"num_unique_values\": 40,\n        \"samples\": [\n          \"7214047977\",\n          \"3930992868\",\n          \"3744295508\"\n        ],\n        \"semantic_type\": \"\",\n        \"description\": \"\"\n      }\n    },\n    {\n      \"column\": \"helpful\",\n      \"properties\": {\n        \"dtype\": \"category\",\n        \"num_unique_values\": 139,\n        \"samples\": [\n          \"[18, 19]\",\n          \"[10, 10]\",\n          \"[11, 20]\"\n        ],\n        \"semantic_type\": \"\",\n        \"description\": \"\"\n      }\n    },\n    {\n      \"column\": \"overall\",\n      \"properties\": {\n        \"dtype\": \"number\",\n        \"std\": 1.2794905290190781,\n        \"min\": 1.0,\n        \"max\": 5.0,\n        \"num_unique_values\": 5,\n        \"samples\": [\n          1.0,\n          4.0,\n          3.0\n        ],\n        \"semantic_type\": \"\",\n        \"description\": \"\"\n      }\n    },\n    {\n      \"column\": \"reviewText\",\n      \"properties\": {\n        \"dtype\": \"string\",\n        \"num_unique_values\": 998,\n        \"samples\": [\n          \"think international customer forewarned barnes noble prevents able purchase book online bookstore sent email stating book sold customer physically residing united state despite international credit card accepted united state even barnes noble card used pay bn membership despite even giving u postal physical address package would signed real personthe thing anger explained barnes noble via phone live trinidad said would problem purchase book purchasing nook color plus additional item screen protector leather case gig sandisk memory card bought amazon able purchase single bookif international customer welcome least type warning website feel like rippedoff barnes noble sad thing bought birthday gift wife shame barnes noble sale rep lied make sale money good enough good enough product new nook color extra gathering dustit sad see low company stoop make dollarthe real slap face registering nook barnes noble website purpose purchasing book problem sending offer week week purchase even product far concerned lost customer permanentlyps review nothing whatsoever amazoncom gripe barnes noble giving false information secure sale caring nothing international customersupdate update updatein interest fairness barnes noble giving amazoncom community reliable information decided open account bank thats based usa see bn would able access fund account im trying find whether location issue payment issue know surei decided try little experiment cant understand gain access sample book bn every time try purchase one seems problem make whole thing even confusing email sent bn tried purchase book via scotia master card book sold customer physically residing united statesi bank america visa debit card tried yet possible issue barnes noble cannot access fund scotia master card based trinidad give bank america card try seeing based usa work last resort try using pay pal account ill post update whether worked notupdate update updateim sorry taking long anyway let u get said every time tried purchase book seems problem make whole thing even confusing email sent bn tried purchase book via scotia master card book sold customer physically residing united stateswell found possible purchase book nook using u based card able purchase book using scotia master card problem whatsoever using bank america visa card definitely nothing geographical location ip address issue see fact everyone access u bank card may still chance making purchase via paypali noticed u based seller problem accessing fund trinidad based credit card even problem accessing fund u based card although also u case like ive found best payment method avoid headache via paypal ive never issue paying via paypal even form payment could worki hope help little\",\n          \"bought power wife first high output led flashlight work didt last nearly long id expected charger worked fine real issue battery werent impressedi ended replacing pair single panasonic battery much happier ended giving away along flashlight stepdaughter upgraded wife flashlight something little punch\",\n          \"got hang sony lcd bedroom used stud finder locate stud drilled pilot hole hung extra set hand helpful hanging mount mounting tv hole mount lined perfectly tv screw fit rightno complaint\"\n        ],\n        \"semantic_type\": \"\",\n        \"description\": \"\"\n      }\n    },\n    {\n      \"column\": \"reviewTime\",\n      \"properties\": {\n        \"dtype\": \"object\",\n        \"num_unique_values\": 724,\n        \"samples\": [\n          \"11 26, 2010\",\n          \"03 23, 2014\",\n          \"04 18, 2014\"\n        ],\n        \"semantic_type\": \"\",\n        \"description\": \"\"\n      }\n    },\n    {\n      \"column\": \"reviewerID\",\n      \"properties\": {\n        \"dtype\": \"string\",\n        \"num_unique_values\": 963,\n        \"samples\": [\n          \"A3M73KV733HBG3\",\n          \"A23ZWJ9CS8OG30\",\n          \"A3TF6A1YMYJQ9U\"\n        ],\n        \"semantic_type\": \"\",\n        \"description\": \"\"\n      }\n    },\n    {\n      \"column\": \"reviewerName\",\n      \"properties\": {\n        \"dtype\": \"string\",\n        \"num_unique_values\": 927,\n        \"samples\": [\n          \"nick m\",\n          \"Shinebox\",\n          \"B. Kilpatrick\"\n        ],\n        \"semantic_type\": \"\",\n        \"description\": \"\"\n      }\n    },\n    {\n      \"column\": \"summary\",\n      \"properties\": {\n        \"dtype\": \"string\",\n        \"num_unique_values\": 940,\n        \"samples\": [\n          \"Well worth every penny if rooted with Kit Kat\",\n          \"These mounts are amazing\",\n          \"Excellent!\"\n        ],\n        \"semantic_type\": \"\",\n        \"description\": \"\"\n      }\n    },\n    {\n      \"column\": \"unixReviewTime\",\n      \"properties\": {\n        \"dtype\": \"number\",\n        \"std\": 44080605.43469735,\n        \"min\": 958089600.0,\n        \"max\": 1405555200.0,\n        \"num_unique_values\": 724,\n        \"samples\": [\n          1290729600.0,\n          1395532800.0,\n          1397779200.0\n        ],\n        \"semantic_type\": \"\",\n        \"description\": \"\"\n      }\n    }\n  ]\n}"
            }
          },
          "metadata": {},
          "execution_count": 26
        }
      ]
    },
    {
      "cell_type": "code",
      "source": [
        "nltk.download('vader_lexicon')"
      ],
      "metadata": {
        "colab": {
          "base_uri": "https://localhost:8080/"
        },
        "id": "mTdz2a_ZLc-4",
        "outputId": "ffba24d1-77d7-4d39-eb04-80df53323d42"
      },
      "execution_count": 27,
      "outputs": [
        {
          "output_type": "stream",
          "name": "stderr",
          "text": [
            "[nltk_data] Downloading package vader_lexicon to /root/nltk_data...\n"
          ]
        },
        {
          "output_type": "execute_result",
          "data": {
            "text/plain": [
              "True"
            ]
          },
          "metadata": {},
          "execution_count": 27
        }
      ]
    },
    {
      "cell_type": "code",
      "source": [
        "sia = SentimentIntensityAnalyzer()"
      ],
      "metadata": {
        "id": "iD0HrpArLqS3"
      },
      "execution_count": 28,
      "outputs": []
    },
    {
      "cell_type": "code",
      "source": [
        "sia.polarity_scores(\"The film was awesome\")"
      ],
      "metadata": {
        "colab": {
          "base_uri": "https://localhost:8080/"
        },
        "id": "UJtbBYE0LwJH",
        "outputId": "4e6da949-99f7-4a43-d44b-8044637dadec"
      },
      "execution_count": 29,
      "outputs": [
        {
          "output_type": "execute_result",
          "data": {
            "text/plain": [
              "{'neg': 0.0, 'neu': 0.423, 'pos': 0.577, 'compound': 0.6249}"
            ]
          },
          "metadata": {},
          "execution_count": 29
        }
      ]
    },
    {
      "cell_type": "code",
      "source": [
        "sia.polarity_scores(\"I liked this music but it is not good as the other one\")"
      ],
      "metadata": {
        "colab": {
          "base_uri": "https://localhost:8080/"
        },
        "id": "B_6LGCcsLzlE",
        "outputId": "efe69ae4-3c42-4add-bcad-a9060ece96ed"
      },
      "execution_count": 30,
      "outputs": [
        {
          "output_type": "execute_result",
          "data": {
            "text/plain": [
              "{'neg': 0.207, 'neu': 0.666, 'pos': 0.127, 'compound': -0.298}"
            ]
          },
          "metadata": {},
          "execution_count": 30
        }
      ]
    },
    {
      "cell_type": "code",
      "source": [
        "df[\"reviewText\"].apply(lambda x: x.upper())"
      ],
      "metadata": {
        "colab": {
          "base_uri": "https://localhost:8080/"
        },
        "id": "iy5rJw4rL6fO",
        "outputId": "bc6eeb32-8d63-4734-f164-b659b3b1ca08"
      },
      "execution_count": 31,
      "outputs": [
        {
          "output_type": "execute_result",
          "data": {
            "text/plain": [
              "0      GOT GPS HUSBAND OTR ROAD TRUCKER IMPRESSED SHI...\n",
              "1      IM PROFESSIONAL OTR TRUCK DRIVER BOUGHT TND TR...\n",
              "2      WELL SAY IVE UNIT TRUCK FOUR DAY PRIOR GARMIN ...\n",
              "3      GOING WRITE LONG REVIEW EVEN THOUGHT UNIT DESE...\n",
              "4      IVE MINE YEAR HERE GOT TRY ROUTE NON TRUCK ROU...\n",
              "                             ...                        \n",
              "994    CABLE RUN LIFETIME EXCELLENT PRODUCT LONGER WE...\n",
              "995    QUALITY CONNECTION VIDEO SEEMS GOOD FUJIFILM F...\n",
              "996    SAY NEEDED CABLE RUN CAMERA TV NEEDED WORK EXP...\n",
              "997    FIND NOTHING WRONG CABLE WORK PERFECTLY GREAT ...\n",
              "998    WORK PERFECTLY P HD CANON EOS MODE COST LE PRI...\n",
              "Name: reviewText, Length: 999, dtype: object"
            ]
          },
          "metadata": {},
          "execution_count": 31
        }
      ]
    },
    {
      "cell_type": "code",
      "source": [
        "df[\"reviewText\"][0:10].apply(lambda x: sia.polarity_scores(x))"
      ],
      "metadata": {
        "colab": {
          "base_uri": "https://localhost:8080/"
        },
        "id": "SoXYwujxL99Q",
        "outputId": "c02b1f08-fc69-479d-af88-dc4923021e5d"
      },
      "execution_count": 32,
      "outputs": [
        {
          "output_type": "execute_result",
          "data": {
            "text/plain": [
              "0    {'neg': 0.029, 'neu': 0.638, 'pos': 0.332, 'co...\n",
              "1    {'neg': 0.103, 'neu': 0.805, 'pos': 0.092, 'co...\n",
              "2    {'neg': 0.069, 'neu': 0.792, 'pos': 0.139, 'co...\n",
              "3    {'neg': 0.097, 'neu': 0.79, 'pos': 0.113, 'com...\n",
              "4    {'neg': 0.113, 'neu': 0.825, 'pos': 0.061, 'co...\n",
              "5    {'neg': 0.0, 'neu': 0.709, 'pos': 0.291, 'comp...\n",
              "6    {'neg': 0.236, 'neu': 0.764, 'pos': 0.0, 'comp...\n",
              "7    {'neg': 0.092, 'neu': 0.679, 'pos': 0.228, 'co...\n",
              "8    {'neg': 0.0, 'neu': 0.636, 'pos': 0.364, 'comp...\n",
              "9    {'neg': 0.0, 'neu': 0.787, 'pos': 0.213, 'comp...\n",
              "Name: reviewText, dtype: object"
            ]
          },
          "metadata": {},
          "execution_count": 32
        }
      ]
    },
    {
      "cell_type": "code",
      "source": [
        "df[\"reviewText\"][0:10].apply(lambda x: sia.polarity_scores(x)[\"compound\"])"
      ],
      "metadata": {
        "colab": {
          "base_uri": "https://localhost:8080/"
        },
        "id": "UtPRX-YhMCj7",
        "outputId": "28bbc8aa-27c4-4439-cd2d-f942ab453521"
      },
      "execution_count": 33,
      "outputs": [
        {
          "output_type": "execute_result",
          "data": {
            "text/plain": [
              "0    0.98\n",
              "1   -0.39\n",
              "2    0.99\n",
              "3    0.44\n",
              "4   -0.78\n",
              "5    0.57\n",
              "6   -0.53\n",
              "7    0.70\n",
              "8    0.95\n",
              "9    0.96\n",
              "Name: reviewText, dtype: float64"
            ]
          },
          "metadata": {},
          "execution_count": 33
        }
      ]
    },
    {
      "cell_type": "code",
      "source": [
        "df[\"polarity_score\"] = df[\"reviewText\"].apply(lambda x: sia.polarity_scores(x)[\"compound\"])\n",
        "df.head()"
      ],
      "metadata": {
        "colab": {
          "base_uri": "https://localhost:8080/",
          "height": 414
        },
        "id": "toXov0vcMGaL",
        "outputId": "a250cd8c-ac81-480f-b30b-152f53bb564b"
      },
      "execution_count": 34,
      "outputs": [
        {
          "output_type": "execute_result",
          "data": {
            "text/plain": [
              "   Unnamed: 0        asin   helpful  overall                                         reviewText   reviewTime      reviewerID              reviewerName                                 summary  \\\n",
              "0           0  0528881469    [0, 0]     5.00  got gps husband otr road trucker impressed shi...   06 2, 2013   AO94DHGC771SJ                   amazdnu                         Gotta have GPS!   \n",
              "1           1  0528881469  [12, 15]     1.00  im professional otr truck driver bought tnd tr...  11 25, 2010   AMO214LNFCEI4           Amazon Customer                       Very Disappointed   \n",
              "2           2  0528881469  [43, 45]     3.00  well say ive unit truck four day prior garmin ...   09 9, 2010  A3N7T0DY83Y4IG             C. A. Freeman                          1st impression   \n",
              "3           3  0528881469   [9, 10]     2.00  going write long review even thought unit dese...  11 24, 2010  A1H8PY3QHMQQA0  Dave M. Shaw \"mack dave\"                 Great grafics, POOR GPS   \n",
              "4           4  0528881469    [0, 0]     1.00  ive mine year here got try route non truck rou...  09 29, 2011  A24EV6RXELQZ63               Wayne Smith  Major issues, only excuses for support   \n",
              "\n",
              "   unixReviewTime  polarity_score  \n",
              "0   1370131200.00            0.98  \n",
              "1   1290643200.00           -0.39  \n",
              "2   1283990400.00            0.99  \n",
              "3   1290556800.00            0.44  \n",
              "4   1317254400.00           -0.78  "
            ],
            "text/html": [
              "\n",
              "  <div id=\"df-481871d5-25a5-4cd1-a683-018d50e27c40\" class=\"colab-df-container\">\n",
              "    <div>\n",
              "<style scoped>\n",
              "    .dataframe tbody tr th:only-of-type {\n",
              "        vertical-align: middle;\n",
              "    }\n",
              "\n",
              "    .dataframe tbody tr th {\n",
              "        vertical-align: top;\n",
              "    }\n",
              "\n",
              "    .dataframe thead th {\n",
              "        text-align: right;\n",
              "    }\n",
              "</style>\n",
              "<table border=\"1\" class=\"dataframe\">\n",
              "  <thead>\n",
              "    <tr style=\"text-align: right;\">\n",
              "      <th></th>\n",
              "      <th>Unnamed: 0</th>\n",
              "      <th>asin</th>\n",
              "      <th>helpful</th>\n",
              "      <th>overall</th>\n",
              "      <th>reviewText</th>\n",
              "      <th>reviewTime</th>\n",
              "      <th>reviewerID</th>\n",
              "      <th>reviewerName</th>\n",
              "      <th>summary</th>\n",
              "      <th>unixReviewTime</th>\n",
              "      <th>polarity_score</th>\n",
              "    </tr>\n",
              "  </thead>\n",
              "  <tbody>\n",
              "    <tr>\n",
              "      <th>0</th>\n",
              "      <td>0</td>\n",
              "      <td>0528881469</td>\n",
              "      <td>[0, 0]</td>\n",
              "      <td>5.00</td>\n",
              "      <td>got gps husband otr road trucker impressed shi...</td>\n",
              "      <td>06 2, 2013</td>\n",
              "      <td>AO94DHGC771SJ</td>\n",
              "      <td>amazdnu</td>\n",
              "      <td>Gotta have GPS!</td>\n",
              "      <td>1370131200.00</td>\n",
              "      <td>0.98</td>\n",
              "    </tr>\n",
              "    <tr>\n",
              "      <th>1</th>\n",
              "      <td>1</td>\n",
              "      <td>0528881469</td>\n",
              "      <td>[12, 15]</td>\n",
              "      <td>1.00</td>\n",
              "      <td>im professional otr truck driver bought tnd tr...</td>\n",
              "      <td>11 25, 2010</td>\n",
              "      <td>AMO214LNFCEI4</td>\n",
              "      <td>Amazon Customer</td>\n",
              "      <td>Very Disappointed</td>\n",
              "      <td>1290643200.00</td>\n",
              "      <td>-0.39</td>\n",
              "    </tr>\n",
              "    <tr>\n",
              "      <th>2</th>\n",
              "      <td>2</td>\n",
              "      <td>0528881469</td>\n",
              "      <td>[43, 45]</td>\n",
              "      <td>3.00</td>\n",
              "      <td>well say ive unit truck four day prior garmin ...</td>\n",
              "      <td>09 9, 2010</td>\n",
              "      <td>A3N7T0DY83Y4IG</td>\n",
              "      <td>C. A. Freeman</td>\n",
              "      <td>1st impression</td>\n",
              "      <td>1283990400.00</td>\n",
              "      <td>0.99</td>\n",
              "    </tr>\n",
              "    <tr>\n",
              "      <th>3</th>\n",
              "      <td>3</td>\n",
              "      <td>0528881469</td>\n",
              "      <td>[9, 10]</td>\n",
              "      <td>2.00</td>\n",
              "      <td>going write long review even thought unit dese...</td>\n",
              "      <td>11 24, 2010</td>\n",
              "      <td>A1H8PY3QHMQQA0</td>\n",
              "      <td>Dave M. Shaw \"mack dave\"</td>\n",
              "      <td>Great grafics, POOR GPS</td>\n",
              "      <td>1290556800.00</td>\n",
              "      <td>0.44</td>\n",
              "    </tr>\n",
              "    <tr>\n",
              "      <th>4</th>\n",
              "      <td>4</td>\n",
              "      <td>0528881469</td>\n",
              "      <td>[0, 0]</td>\n",
              "      <td>1.00</td>\n",
              "      <td>ive mine year here got try route non truck rou...</td>\n",
              "      <td>09 29, 2011</td>\n",
              "      <td>A24EV6RXELQZ63</td>\n",
              "      <td>Wayne Smith</td>\n",
              "      <td>Major issues, only excuses for support</td>\n",
              "      <td>1317254400.00</td>\n",
              "      <td>-0.78</td>\n",
              "    </tr>\n",
              "  </tbody>\n",
              "</table>\n",
              "</div>\n",
              "    <div class=\"colab-df-buttons\">\n",
              "\n",
              "  <div class=\"colab-df-container\">\n",
              "    <button class=\"colab-df-convert\" onclick=\"convertToInteractive('df-481871d5-25a5-4cd1-a683-018d50e27c40')\"\n",
              "            title=\"Convert this dataframe to an interactive table.\"\n",
              "            style=\"display:none;\">\n",
              "\n",
              "  <svg xmlns=\"http://www.w3.org/2000/svg\" height=\"24px\" viewBox=\"0 -960 960 960\">\n",
              "    <path d=\"M120-120v-720h720v720H120Zm60-500h600v-160H180v160Zm220 220h160v-160H400v160Zm0 220h160v-160H400v160ZM180-400h160v-160H180v160Zm440 0h160v-160H620v160ZM180-180h160v-160H180v160Zm440 0h160v-160H620v160Z\"/>\n",
              "  </svg>\n",
              "    </button>\n",
              "\n",
              "  <style>\n",
              "    .colab-df-container {\n",
              "      display:flex;\n",
              "      gap: 12px;\n",
              "    }\n",
              "\n",
              "    .colab-df-convert {\n",
              "      background-color: #E8F0FE;\n",
              "      border: none;\n",
              "      border-radius: 50%;\n",
              "      cursor: pointer;\n",
              "      display: none;\n",
              "      fill: #1967D2;\n",
              "      height: 32px;\n",
              "      padding: 0 0 0 0;\n",
              "      width: 32px;\n",
              "    }\n",
              "\n",
              "    .colab-df-convert:hover {\n",
              "      background-color: #E2EBFA;\n",
              "      box-shadow: 0px 1px 2px rgba(60, 64, 67, 0.3), 0px 1px 3px 1px rgba(60, 64, 67, 0.15);\n",
              "      fill: #174EA6;\n",
              "    }\n",
              "\n",
              "    .colab-df-buttons div {\n",
              "      margin-bottom: 4px;\n",
              "    }\n",
              "\n",
              "    [theme=dark] .colab-df-convert {\n",
              "      background-color: #3B4455;\n",
              "      fill: #D2E3FC;\n",
              "    }\n",
              "\n",
              "    [theme=dark] .colab-df-convert:hover {\n",
              "      background-color: #434B5C;\n",
              "      box-shadow: 0px 1px 3px 1px rgba(0, 0, 0, 0.15);\n",
              "      filter: drop-shadow(0px 1px 2px rgba(0, 0, 0, 0.3));\n",
              "      fill: #FFFFFF;\n",
              "    }\n",
              "  </style>\n",
              "\n",
              "    <script>\n",
              "      const buttonEl =\n",
              "        document.querySelector('#df-481871d5-25a5-4cd1-a683-018d50e27c40 button.colab-df-convert');\n",
              "      buttonEl.style.display =\n",
              "        google.colab.kernel.accessAllowed ? 'block' : 'none';\n",
              "\n",
              "      async function convertToInteractive(key) {\n",
              "        const element = document.querySelector('#df-481871d5-25a5-4cd1-a683-018d50e27c40');\n",
              "        const dataTable =\n",
              "          await google.colab.kernel.invokeFunction('convertToInteractive',\n",
              "                                                    [key], {});\n",
              "        if (!dataTable) return;\n",
              "\n",
              "        const docLinkHtml = 'Like what you see? Visit the ' +\n",
              "          '<a target=\"_blank\" href=https://colab.research.google.com/notebooks/data_table.ipynb>data table notebook</a>'\n",
              "          + ' to learn more about interactive tables.';\n",
              "        element.innerHTML = '';\n",
              "        dataTable['output_type'] = 'display_data';\n",
              "        await google.colab.output.renderOutput(dataTable, element);\n",
              "        const docLink = document.createElement('div');\n",
              "        docLink.innerHTML = docLinkHtml;\n",
              "        element.appendChild(docLink);\n",
              "      }\n",
              "    </script>\n",
              "  </div>\n",
              "\n",
              "\n",
              "<div id=\"df-346a0eef-3499-4fc3-b241-aef8c02fd9e7\">\n",
              "  <button class=\"colab-df-quickchart\" onclick=\"quickchart('df-346a0eef-3499-4fc3-b241-aef8c02fd9e7')\"\n",
              "            title=\"Suggest charts\"\n",
              "            style=\"display:none;\">\n",
              "\n",
              "<svg xmlns=\"http://www.w3.org/2000/svg\" height=\"24px\"viewBox=\"0 0 24 24\"\n",
              "     width=\"24px\">\n",
              "    <g>\n",
              "        <path d=\"M19 3H5c-1.1 0-2 .9-2 2v14c0 1.1.9 2 2 2h14c1.1 0 2-.9 2-2V5c0-1.1-.9-2-2-2zM9 17H7v-7h2v7zm4 0h-2V7h2v10zm4 0h-2v-4h2v4z\"/>\n",
              "    </g>\n",
              "</svg>\n",
              "  </button>\n",
              "\n",
              "<style>\n",
              "  .colab-df-quickchart {\n",
              "      --bg-color: #E8F0FE;\n",
              "      --fill-color: #1967D2;\n",
              "      --hover-bg-color: #E2EBFA;\n",
              "      --hover-fill-color: #174EA6;\n",
              "      --disabled-fill-color: #AAA;\n",
              "      --disabled-bg-color: #DDD;\n",
              "  }\n",
              "\n",
              "  [theme=dark] .colab-df-quickchart {\n",
              "      --bg-color: #3B4455;\n",
              "      --fill-color: #D2E3FC;\n",
              "      --hover-bg-color: #434B5C;\n",
              "      --hover-fill-color: #FFFFFF;\n",
              "      --disabled-bg-color: #3B4455;\n",
              "      --disabled-fill-color: #666;\n",
              "  }\n",
              "\n",
              "  .colab-df-quickchart {\n",
              "    background-color: var(--bg-color);\n",
              "    border: none;\n",
              "    border-radius: 50%;\n",
              "    cursor: pointer;\n",
              "    display: none;\n",
              "    fill: var(--fill-color);\n",
              "    height: 32px;\n",
              "    padding: 0;\n",
              "    width: 32px;\n",
              "  }\n",
              "\n",
              "  .colab-df-quickchart:hover {\n",
              "    background-color: var(--hover-bg-color);\n",
              "    box-shadow: 0 1px 2px rgba(60, 64, 67, 0.3), 0 1px 3px 1px rgba(60, 64, 67, 0.15);\n",
              "    fill: var(--button-hover-fill-color);\n",
              "  }\n",
              "\n",
              "  .colab-df-quickchart-complete:disabled,\n",
              "  .colab-df-quickchart-complete:disabled:hover {\n",
              "    background-color: var(--disabled-bg-color);\n",
              "    fill: var(--disabled-fill-color);\n",
              "    box-shadow: none;\n",
              "  }\n",
              "\n",
              "  .colab-df-spinner {\n",
              "    border: 2px solid var(--fill-color);\n",
              "    border-color: transparent;\n",
              "    border-bottom-color: var(--fill-color);\n",
              "    animation:\n",
              "      spin 1s steps(1) infinite;\n",
              "  }\n",
              "\n",
              "  @keyframes spin {\n",
              "    0% {\n",
              "      border-color: transparent;\n",
              "      border-bottom-color: var(--fill-color);\n",
              "      border-left-color: var(--fill-color);\n",
              "    }\n",
              "    20% {\n",
              "      border-color: transparent;\n",
              "      border-left-color: var(--fill-color);\n",
              "      border-top-color: var(--fill-color);\n",
              "    }\n",
              "    30% {\n",
              "      border-color: transparent;\n",
              "      border-left-color: var(--fill-color);\n",
              "      border-top-color: var(--fill-color);\n",
              "      border-right-color: var(--fill-color);\n",
              "    }\n",
              "    40% {\n",
              "      border-color: transparent;\n",
              "      border-right-color: var(--fill-color);\n",
              "      border-top-color: var(--fill-color);\n",
              "    }\n",
              "    60% {\n",
              "      border-color: transparent;\n",
              "      border-right-color: var(--fill-color);\n",
              "    }\n",
              "    80% {\n",
              "      border-color: transparent;\n",
              "      border-right-color: var(--fill-color);\n",
              "      border-bottom-color: var(--fill-color);\n",
              "    }\n",
              "    90% {\n",
              "      border-color: transparent;\n",
              "      border-bottom-color: var(--fill-color);\n",
              "    }\n",
              "  }\n",
              "</style>\n",
              "\n",
              "  <script>\n",
              "    async function quickchart(key) {\n",
              "      const quickchartButtonEl =\n",
              "        document.querySelector('#' + key + ' button');\n",
              "      quickchartButtonEl.disabled = true;  // To prevent multiple clicks.\n",
              "      quickchartButtonEl.classList.add('colab-df-spinner');\n",
              "      try {\n",
              "        const charts = await google.colab.kernel.invokeFunction(\n",
              "            'suggestCharts', [key], {});\n",
              "      } catch (error) {\n",
              "        console.error('Error during call to suggestCharts:', error);\n",
              "      }\n",
              "      quickchartButtonEl.classList.remove('colab-df-spinner');\n",
              "      quickchartButtonEl.classList.add('colab-df-quickchart-complete');\n",
              "    }\n",
              "    (() => {\n",
              "      let quickchartButtonEl =\n",
              "        document.querySelector('#df-346a0eef-3499-4fc3-b241-aef8c02fd9e7 button');\n",
              "      quickchartButtonEl.style.display =\n",
              "        google.colab.kernel.accessAllowed ? 'block' : 'none';\n",
              "    })();\n",
              "  </script>\n",
              "</div>\n",
              "\n",
              "    </div>\n",
              "  </div>\n"
            ],
            "application/vnd.google.colaboratory.intrinsic+json": {
              "type": "dataframe",
              "variable_name": "df",
              "summary": "{\n  \"name\": \"df\",\n  \"rows\": 999,\n  \"fields\": [\n    {\n      \"column\": \"Unnamed: 0\",\n      \"properties\": {\n        \"dtype\": \"number\",\n        \"std\": 288,\n        \"min\": 0,\n        \"max\": 998,\n        \"num_unique_values\": 999,\n        \"samples\": [\n          453,\n          793,\n          209\n        ],\n        \"semantic_type\": \"\",\n        \"description\": \"\"\n      }\n    },\n    {\n      \"column\": \"asin\",\n      \"properties\": {\n        \"dtype\": \"category\",\n        \"num_unique_values\": 40,\n        \"samples\": [\n          \"7214047977\",\n          \"3930992868\",\n          \"3744295508\"\n        ],\n        \"semantic_type\": \"\",\n        \"description\": \"\"\n      }\n    },\n    {\n      \"column\": \"helpful\",\n      \"properties\": {\n        \"dtype\": \"category\",\n        \"num_unique_values\": 139,\n        \"samples\": [\n          \"[18, 19]\",\n          \"[10, 10]\",\n          \"[11, 20]\"\n        ],\n        \"semantic_type\": \"\",\n        \"description\": \"\"\n      }\n    },\n    {\n      \"column\": \"overall\",\n      \"properties\": {\n        \"dtype\": \"number\",\n        \"std\": 1.2794905290190781,\n        \"min\": 1.0,\n        \"max\": 5.0,\n        \"num_unique_values\": 5,\n        \"samples\": [\n          1.0,\n          4.0,\n          3.0\n        ],\n        \"semantic_type\": \"\",\n        \"description\": \"\"\n      }\n    },\n    {\n      \"column\": \"reviewText\",\n      \"properties\": {\n        \"dtype\": \"string\",\n        \"num_unique_values\": 998,\n        \"samples\": [\n          \"think international customer forewarned barnes noble prevents able purchase book online bookstore sent email stating book sold customer physically residing united state despite international credit card accepted united state even barnes noble card used pay bn membership despite even giving u postal physical address package would signed real personthe thing anger explained barnes noble via phone live trinidad said would problem purchase book purchasing nook color plus additional item screen protector leather case gig sandisk memory card bought amazon able purchase single bookif international customer welcome least type warning website feel like rippedoff barnes noble sad thing bought birthday gift wife shame barnes noble sale rep lied make sale money good enough good enough product new nook color extra gathering dustit sad see low company stoop make dollarthe real slap face registering nook barnes noble website purpose purchasing book problem sending offer week week purchase even product far concerned lost customer permanentlyps review nothing whatsoever amazoncom gripe barnes noble giving false information secure sale caring nothing international customersupdate update updatein interest fairness barnes noble giving amazoncom community reliable information decided open account bank thats based usa see bn would able access fund account im trying find whether location issue payment issue know surei decided try little experiment cant understand gain access sample book bn every time try purchase one seems problem make whole thing even confusing email sent bn tried purchase book via scotia master card book sold customer physically residing united statesi bank america visa debit card tried yet possible issue barnes noble cannot access fund scotia master card based trinidad give bank america card try seeing based usa work last resort try using pay pal account ill post update whether worked notupdate update updateim sorry taking long anyway let u get said every time tried purchase book seems problem make whole thing even confusing email sent bn tried purchase book via scotia master card book sold customer physically residing united stateswell found possible purchase book nook using u based card able purchase book using scotia master card problem whatsoever using bank america visa card definitely nothing geographical location ip address issue see fact everyone access u bank card may still chance making purchase via paypali noticed u based seller problem accessing fund trinidad based credit card even problem accessing fund u based card although also u case like ive found best payment method avoid headache via paypal ive never issue paying via paypal even form payment could worki hope help little\",\n          \"bought power wife first high output led flashlight work didt last nearly long id expected charger worked fine real issue battery werent impressedi ended replacing pair single panasonic battery much happier ended giving away along flashlight stepdaughter upgraded wife flashlight something little punch\",\n          \"got hang sony lcd bedroom used stud finder locate stud drilled pilot hole hung extra set hand helpful hanging mount mounting tv hole mount lined perfectly tv screw fit rightno complaint\"\n        ],\n        \"semantic_type\": \"\",\n        \"description\": \"\"\n      }\n    },\n    {\n      \"column\": \"reviewTime\",\n      \"properties\": {\n        \"dtype\": \"object\",\n        \"num_unique_values\": 724,\n        \"samples\": [\n          \"11 26, 2010\",\n          \"03 23, 2014\",\n          \"04 18, 2014\"\n        ],\n        \"semantic_type\": \"\",\n        \"description\": \"\"\n      }\n    },\n    {\n      \"column\": \"reviewerID\",\n      \"properties\": {\n        \"dtype\": \"string\",\n        \"num_unique_values\": 963,\n        \"samples\": [\n          \"A3M73KV733HBG3\",\n          \"A23ZWJ9CS8OG30\",\n          \"A3TF6A1YMYJQ9U\"\n        ],\n        \"semantic_type\": \"\",\n        \"description\": \"\"\n      }\n    },\n    {\n      \"column\": \"reviewerName\",\n      \"properties\": {\n        \"dtype\": \"string\",\n        \"num_unique_values\": 927,\n        \"samples\": [\n          \"nick m\",\n          \"Shinebox\",\n          \"B. Kilpatrick\"\n        ],\n        \"semantic_type\": \"\",\n        \"description\": \"\"\n      }\n    },\n    {\n      \"column\": \"summary\",\n      \"properties\": {\n        \"dtype\": \"string\",\n        \"num_unique_values\": 940,\n        \"samples\": [\n          \"Well worth every penny if rooted with Kit Kat\",\n          \"These mounts are amazing\",\n          \"Excellent!\"\n        ],\n        \"semantic_type\": \"\",\n        \"description\": \"\"\n      }\n    },\n    {\n      \"column\": \"unixReviewTime\",\n      \"properties\": {\n        \"dtype\": \"number\",\n        \"std\": 44080605.43469735,\n        \"min\": 958089600.0,\n        \"max\": 1405555200.0,\n        \"num_unique_values\": 724,\n        \"samples\": [\n          1290729600.0,\n          1395532800.0,\n          1397779200.0\n        ],\n        \"semantic_type\": \"\",\n        \"description\": \"\"\n      }\n    },\n    {\n      \"column\": \"polarity_score\",\n      \"properties\": {\n        \"dtype\": \"number\",\n        \"std\": 0.45078061370103606,\n        \"min\": -0.9673,\n        \"max\": 0.9998,\n        \"num_unique_values\": 531,\n        \"samples\": [\n          0.9255,\n          -0.5256,\n          0.9709\n        ],\n        \"semantic_type\": \"\",\n        \"description\": \"\"\n      }\n    }\n  ]\n}"
            }
          },
          "metadata": {},
          "execution_count": 34
        }
      ]
    },
    {
      "cell_type": "markdown",
      "source": [
        "##Sentiment Modelling"
      ],
      "metadata": {
        "id": "X4HD3L3DMSZp"
      }
    },
    {
      "cell_type": "code",
      "source": [
        "df[\"reviewText\"][0:10].apply(lambda x: \"pos\" if sia.polarity_scores(x)[\"compound\"] > 0 else \"neg\")"
      ],
      "metadata": {
        "colab": {
          "base_uri": "https://localhost:8080/"
        },
        "id": "osLI3ZFWMKIn",
        "outputId": "6d065854-e474-48e1-a737-f63f9bb04e88"
      },
      "execution_count": 35,
      "outputs": [
        {
          "output_type": "execute_result",
          "data": {
            "text/plain": [
              "0    pos\n",
              "1    neg\n",
              "2    pos\n",
              "3    pos\n",
              "4    neg\n",
              "5    pos\n",
              "6    neg\n",
              "7    pos\n",
              "8    pos\n",
              "9    pos\n",
              "Name: reviewText, dtype: object"
            ]
          },
          "metadata": {},
          "execution_count": 35
        }
      ]
    },
    {
      "cell_type": "code",
      "source": [
        "df[\"sentiment_label\"] = df[\"reviewText\"].apply(lambda x: \"pos\" if sia.polarity_scores(x)[\"compound\"] > 0 else \"neg\")\n",
        "df.head(20)"
      ],
      "metadata": {
        "colab": {
          "base_uri": "https://localhost:8080/",
          "height": 1000
        },
        "id": "ur6ijdCcMWMk",
        "outputId": "3e70d6dc-cc08-4a87-ff51-0b36bee3dec9"
      },
      "execution_count": 36,
      "outputs": [
        {
          "output_type": "execute_result",
          "data": {
            "text/plain": [
              "    Unnamed: 0        asin   helpful  overall                                         reviewText   reviewTime      reviewerID                           reviewerName  \\\n",
              "0            0  0528881469    [0, 0]     5.00  got gps husband otr road trucker impressed shi...   06 2, 2013   AO94DHGC771SJ                                amazdnu   \n",
              "1            1  0528881469  [12, 15]     1.00  im professional otr truck driver bought tnd tr...  11 25, 2010   AMO214LNFCEI4                        Amazon Customer   \n",
              "2            2  0528881469  [43, 45]     3.00  well say ive unit truck four day prior garmin ...   09 9, 2010  A3N7T0DY83Y4IG                          C. A. Freeman   \n",
              "3            3  0528881469   [9, 10]     2.00  going write long review even thought unit dese...  11 24, 2010  A1H8PY3QHMQQA0               Dave M. Shaw \"mack dave\"   \n",
              "4            4  0528881469    [0, 0]     1.00  ive mine year here got try route non truck rou...  09 29, 2011  A24EV6RXELQZ63                            Wayne Smith   \n",
              "5            5  0594451647    [3, 3]     5.00  using nook hd work described hd picture samsun...   01 3, 2014  A2JXAZZI9PHK9Z          Billy G. Noland \"Bill Noland\"   \n",
              "6            6  0594451647    [0, 0]     2.00  cable wobbly sometimes disconnect itselfthe pr...  04 27, 2014  A2P5U7BDKKT7FW                              Christian   \n",
              "7            7  0594451647    [0, 0]     5.00  adaptor real easy setup use right box problem ...   05 4, 2014   AAZ084UMH8VZ2  D. L. Brown \"A Knower Of Good Things\"   \n",
              "8            8  0594451647    [0, 0]     4.00  adapter easily connects nook hd hdtv hdmi cabl...  07 11, 2014   AEZ3CR6BKIROJ                           Mark Dietter   \n",
              "9            9  0594451647    [3, 3]     5.00  product really work great found following item...  01 20, 2014  A3BY5KCNQZXV5U                                Matenai   \n",
              "10          10  0594481813    [2, 2]     4.00  item described original description work witho...  04 16, 2014   A7S2B0I67WNWB                                 AllyMG   \n",
              "11          11  0594481813    [0, 0]     5.00  bought spare nook hd fit perfectly satisfied p...   05 5, 2014  A3HICVLF4PFFMN                        Amazon Customer   \n",
              "12          12  0594481813    [1, 1]     5.00  son crewed hd charger cord needed another one ...  06 24, 2013   ANSKSPEEAKY7S                                   Gena   \n",
              "13          13  0594481813    [0, 1]     3.00  good beefy amp charger cover two outlet power ...  05 25, 2013  A2QBZA4S1ROX9Q                                   Jake   \n",
              "14          14  0594481813    [2, 2]     5.00  lost bn original cable looked around new one t...   03 9, 2014   ANY6JUFM0GH8U                             J. Clement   \n",
              "15          15  0594481813    [0, 0]     3.00  charge dead nook hour lot heat compared wall w...  08 31, 2013   AT09WGFUM934H                                   John   \n",
              "16          16  0594481813    [3, 5]     3.00  go target barnes noble instead pay still huge ...  09 18, 2013   AGAKHE014LQFU                              Nicodimus   \n",
              "17          17  0594481813    [2, 2]     4.00  work well little pricey think charging cable l...  06 27, 2013  A1S6B5QFWGVL5U                             T. Vaughan   \n",
              "18          18  0972683275    [0, 0]     5.00                    great buy compared retail store  07 12, 2014  A20XXTXWF2TCPY                                    NaN   \n",
              "19          19  0972683275    [1, 1]     5.00  mount needed strong sturdy fold almost flat en...  04 30, 2013  A2IDCSC6NVONIZ                                2Cents!   \n",
              "\n",
              "                                              summary  unixReviewTime  polarity_score sentiment_label  \n",
              "0                                     Gotta have GPS!   1370131200.00            0.98             pos  \n",
              "1                                   Very Disappointed   1290643200.00           -0.39             neg  \n",
              "2                                      1st impression   1283990400.00            0.99             pos  \n",
              "3                             Great grafics, POOR GPS   1290556800.00            0.44             pos  \n",
              "4              Major issues, only excuses for support   1317254400.00           -0.78             neg  \n",
              "5                             HDMI Nook adapter cable   1388707200.00            0.57             pos  \n",
              "6                              Cheap proprietary scam   1398556800.00           -0.53             neg  \n",
              "7                         A Perfdect Nook HD+ hook up   1399161600.00            0.70             pos  \n",
              "8                       A nice easy to use accessory.   1405036800.00            0.95             pos  \n",
              "9            This works great but read the details...   1390176000.00            0.96             pos  \n",
              "10                                        As expected   1397606400.00           -0.03             neg  \n",
              "11                                          great fit   1399248000.00            0.86             pos  \n",
              "12                                        Works Great   1372032000.00           -0.18             neg  \n",
              "13                                           It Works   1369440000.00            0.78             pos  \n",
              "14         Great replacement for original power cable   1394323200.00            0.82             pos  \n",
              "15  This is the oem charger you get with the nook hd+   1377907200.00           -0.32             neg  \n",
              "16         $45 for a power cord? Good luck with that.   1379462400.00           -0.05             neg  \n",
              "17                                   Good replacement   1372291200.00            0.20             pos  \n",
              "18  Excelant mount for Tv. Would buy more if I nee...   1405123200.00            0.62             pos  \n",
              "19                                            Perfect   1367280000.00            0.90             pos  "
            ],
            "text/html": [
              "\n",
              "  <div id=\"df-c13448b0-60e4-45c7-a93d-72389e0d6c04\" class=\"colab-df-container\">\n",
              "    <div>\n",
              "<style scoped>\n",
              "    .dataframe tbody tr th:only-of-type {\n",
              "        vertical-align: middle;\n",
              "    }\n",
              "\n",
              "    .dataframe tbody tr th {\n",
              "        vertical-align: top;\n",
              "    }\n",
              "\n",
              "    .dataframe thead th {\n",
              "        text-align: right;\n",
              "    }\n",
              "</style>\n",
              "<table border=\"1\" class=\"dataframe\">\n",
              "  <thead>\n",
              "    <tr style=\"text-align: right;\">\n",
              "      <th></th>\n",
              "      <th>Unnamed: 0</th>\n",
              "      <th>asin</th>\n",
              "      <th>helpful</th>\n",
              "      <th>overall</th>\n",
              "      <th>reviewText</th>\n",
              "      <th>reviewTime</th>\n",
              "      <th>reviewerID</th>\n",
              "      <th>reviewerName</th>\n",
              "      <th>summary</th>\n",
              "      <th>unixReviewTime</th>\n",
              "      <th>polarity_score</th>\n",
              "      <th>sentiment_label</th>\n",
              "    </tr>\n",
              "  </thead>\n",
              "  <tbody>\n",
              "    <tr>\n",
              "      <th>0</th>\n",
              "      <td>0</td>\n",
              "      <td>0528881469</td>\n",
              "      <td>[0, 0]</td>\n",
              "      <td>5.00</td>\n",
              "      <td>got gps husband otr road trucker impressed shi...</td>\n",
              "      <td>06 2, 2013</td>\n",
              "      <td>AO94DHGC771SJ</td>\n",
              "      <td>amazdnu</td>\n",
              "      <td>Gotta have GPS!</td>\n",
              "      <td>1370131200.00</td>\n",
              "      <td>0.98</td>\n",
              "      <td>pos</td>\n",
              "    </tr>\n",
              "    <tr>\n",
              "      <th>1</th>\n",
              "      <td>1</td>\n",
              "      <td>0528881469</td>\n",
              "      <td>[12, 15]</td>\n",
              "      <td>1.00</td>\n",
              "      <td>im professional otr truck driver bought tnd tr...</td>\n",
              "      <td>11 25, 2010</td>\n",
              "      <td>AMO214LNFCEI4</td>\n",
              "      <td>Amazon Customer</td>\n",
              "      <td>Very Disappointed</td>\n",
              "      <td>1290643200.00</td>\n",
              "      <td>-0.39</td>\n",
              "      <td>neg</td>\n",
              "    </tr>\n",
              "    <tr>\n",
              "      <th>2</th>\n",
              "      <td>2</td>\n",
              "      <td>0528881469</td>\n",
              "      <td>[43, 45]</td>\n",
              "      <td>3.00</td>\n",
              "      <td>well say ive unit truck four day prior garmin ...</td>\n",
              "      <td>09 9, 2010</td>\n",
              "      <td>A3N7T0DY83Y4IG</td>\n",
              "      <td>C. A. Freeman</td>\n",
              "      <td>1st impression</td>\n",
              "      <td>1283990400.00</td>\n",
              "      <td>0.99</td>\n",
              "      <td>pos</td>\n",
              "    </tr>\n",
              "    <tr>\n",
              "      <th>3</th>\n",
              "      <td>3</td>\n",
              "      <td>0528881469</td>\n",
              "      <td>[9, 10]</td>\n",
              "      <td>2.00</td>\n",
              "      <td>going write long review even thought unit dese...</td>\n",
              "      <td>11 24, 2010</td>\n",
              "      <td>A1H8PY3QHMQQA0</td>\n",
              "      <td>Dave M. Shaw \"mack dave\"</td>\n",
              "      <td>Great grafics, POOR GPS</td>\n",
              "      <td>1290556800.00</td>\n",
              "      <td>0.44</td>\n",
              "      <td>pos</td>\n",
              "    </tr>\n",
              "    <tr>\n",
              "      <th>4</th>\n",
              "      <td>4</td>\n",
              "      <td>0528881469</td>\n",
              "      <td>[0, 0]</td>\n",
              "      <td>1.00</td>\n",
              "      <td>ive mine year here got try route non truck rou...</td>\n",
              "      <td>09 29, 2011</td>\n",
              "      <td>A24EV6RXELQZ63</td>\n",
              "      <td>Wayne Smith</td>\n",
              "      <td>Major issues, only excuses for support</td>\n",
              "      <td>1317254400.00</td>\n",
              "      <td>-0.78</td>\n",
              "      <td>neg</td>\n",
              "    </tr>\n",
              "    <tr>\n",
              "      <th>5</th>\n",
              "      <td>5</td>\n",
              "      <td>0594451647</td>\n",
              "      <td>[3, 3]</td>\n",
              "      <td>5.00</td>\n",
              "      <td>using nook hd work described hd picture samsun...</td>\n",
              "      <td>01 3, 2014</td>\n",
              "      <td>A2JXAZZI9PHK9Z</td>\n",
              "      <td>Billy G. Noland \"Bill Noland\"</td>\n",
              "      <td>HDMI Nook adapter cable</td>\n",
              "      <td>1388707200.00</td>\n",
              "      <td>0.57</td>\n",
              "      <td>pos</td>\n",
              "    </tr>\n",
              "    <tr>\n",
              "      <th>6</th>\n",
              "      <td>6</td>\n",
              "      <td>0594451647</td>\n",
              "      <td>[0, 0]</td>\n",
              "      <td>2.00</td>\n",
              "      <td>cable wobbly sometimes disconnect itselfthe pr...</td>\n",
              "      <td>04 27, 2014</td>\n",
              "      <td>A2P5U7BDKKT7FW</td>\n",
              "      <td>Christian</td>\n",
              "      <td>Cheap proprietary scam</td>\n",
              "      <td>1398556800.00</td>\n",
              "      <td>-0.53</td>\n",
              "      <td>neg</td>\n",
              "    </tr>\n",
              "    <tr>\n",
              "      <th>7</th>\n",
              "      <td>7</td>\n",
              "      <td>0594451647</td>\n",
              "      <td>[0, 0]</td>\n",
              "      <td>5.00</td>\n",
              "      <td>adaptor real easy setup use right box problem ...</td>\n",
              "      <td>05 4, 2014</td>\n",
              "      <td>AAZ084UMH8VZ2</td>\n",
              "      <td>D. L. Brown \"A Knower Of Good Things\"</td>\n",
              "      <td>A Perfdect Nook HD+ hook up</td>\n",
              "      <td>1399161600.00</td>\n",
              "      <td>0.70</td>\n",
              "      <td>pos</td>\n",
              "    </tr>\n",
              "    <tr>\n",
              "      <th>8</th>\n",
              "      <td>8</td>\n",
              "      <td>0594451647</td>\n",
              "      <td>[0, 0]</td>\n",
              "      <td>4.00</td>\n",
              "      <td>adapter easily connects nook hd hdtv hdmi cabl...</td>\n",
              "      <td>07 11, 2014</td>\n",
              "      <td>AEZ3CR6BKIROJ</td>\n",
              "      <td>Mark Dietter</td>\n",
              "      <td>A nice easy to use accessory.</td>\n",
              "      <td>1405036800.00</td>\n",
              "      <td>0.95</td>\n",
              "      <td>pos</td>\n",
              "    </tr>\n",
              "    <tr>\n",
              "      <th>9</th>\n",
              "      <td>9</td>\n",
              "      <td>0594451647</td>\n",
              "      <td>[3, 3]</td>\n",
              "      <td>5.00</td>\n",
              "      <td>product really work great found following item...</td>\n",
              "      <td>01 20, 2014</td>\n",
              "      <td>A3BY5KCNQZXV5U</td>\n",
              "      <td>Matenai</td>\n",
              "      <td>This works great but read the details...</td>\n",
              "      <td>1390176000.00</td>\n",
              "      <td>0.96</td>\n",
              "      <td>pos</td>\n",
              "    </tr>\n",
              "    <tr>\n",
              "      <th>10</th>\n",
              "      <td>10</td>\n",
              "      <td>0594481813</td>\n",
              "      <td>[2, 2]</td>\n",
              "      <td>4.00</td>\n",
              "      <td>item described original description work witho...</td>\n",
              "      <td>04 16, 2014</td>\n",
              "      <td>A7S2B0I67WNWB</td>\n",
              "      <td>AllyMG</td>\n",
              "      <td>As expected</td>\n",
              "      <td>1397606400.00</td>\n",
              "      <td>-0.03</td>\n",
              "      <td>neg</td>\n",
              "    </tr>\n",
              "    <tr>\n",
              "      <th>11</th>\n",
              "      <td>11</td>\n",
              "      <td>0594481813</td>\n",
              "      <td>[0, 0]</td>\n",
              "      <td>5.00</td>\n",
              "      <td>bought spare nook hd fit perfectly satisfied p...</td>\n",
              "      <td>05 5, 2014</td>\n",
              "      <td>A3HICVLF4PFFMN</td>\n",
              "      <td>Amazon Customer</td>\n",
              "      <td>great fit</td>\n",
              "      <td>1399248000.00</td>\n",
              "      <td>0.86</td>\n",
              "      <td>pos</td>\n",
              "    </tr>\n",
              "    <tr>\n",
              "      <th>12</th>\n",
              "      <td>12</td>\n",
              "      <td>0594481813</td>\n",
              "      <td>[1, 1]</td>\n",
              "      <td>5.00</td>\n",
              "      <td>son crewed hd charger cord needed another one ...</td>\n",
              "      <td>06 24, 2013</td>\n",
              "      <td>ANSKSPEEAKY7S</td>\n",
              "      <td>Gena</td>\n",
              "      <td>Works Great</td>\n",
              "      <td>1372032000.00</td>\n",
              "      <td>-0.18</td>\n",
              "      <td>neg</td>\n",
              "    </tr>\n",
              "    <tr>\n",
              "      <th>13</th>\n",
              "      <td>13</td>\n",
              "      <td>0594481813</td>\n",
              "      <td>[0, 1]</td>\n",
              "      <td>3.00</td>\n",
              "      <td>good beefy amp charger cover two outlet power ...</td>\n",
              "      <td>05 25, 2013</td>\n",
              "      <td>A2QBZA4S1ROX9Q</td>\n",
              "      <td>Jake</td>\n",
              "      <td>It Works</td>\n",
              "      <td>1369440000.00</td>\n",
              "      <td>0.78</td>\n",
              "      <td>pos</td>\n",
              "    </tr>\n",
              "    <tr>\n",
              "      <th>14</th>\n",
              "      <td>14</td>\n",
              "      <td>0594481813</td>\n",
              "      <td>[2, 2]</td>\n",
              "      <td>5.00</td>\n",
              "      <td>lost bn original cable looked around new one t...</td>\n",
              "      <td>03 9, 2014</td>\n",
              "      <td>ANY6JUFM0GH8U</td>\n",
              "      <td>J. Clement</td>\n",
              "      <td>Great replacement for original power cable</td>\n",
              "      <td>1394323200.00</td>\n",
              "      <td>0.82</td>\n",
              "      <td>pos</td>\n",
              "    </tr>\n",
              "    <tr>\n",
              "      <th>15</th>\n",
              "      <td>15</td>\n",
              "      <td>0594481813</td>\n",
              "      <td>[0, 0]</td>\n",
              "      <td>3.00</td>\n",
              "      <td>charge dead nook hour lot heat compared wall w...</td>\n",
              "      <td>08 31, 2013</td>\n",
              "      <td>AT09WGFUM934H</td>\n",
              "      <td>John</td>\n",
              "      <td>This is the oem charger you get with the nook hd+</td>\n",
              "      <td>1377907200.00</td>\n",
              "      <td>-0.32</td>\n",
              "      <td>neg</td>\n",
              "    </tr>\n",
              "    <tr>\n",
              "      <th>16</th>\n",
              "      <td>16</td>\n",
              "      <td>0594481813</td>\n",
              "      <td>[3, 5]</td>\n",
              "      <td>3.00</td>\n",
              "      <td>go target barnes noble instead pay still huge ...</td>\n",
              "      <td>09 18, 2013</td>\n",
              "      <td>AGAKHE014LQFU</td>\n",
              "      <td>Nicodimus</td>\n",
              "      <td>$45 for a power cord? Good luck with that.</td>\n",
              "      <td>1379462400.00</td>\n",
              "      <td>-0.05</td>\n",
              "      <td>neg</td>\n",
              "    </tr>\n",
              "    <tr>\n",
              "      <th>17</th>\n",
              "      <td>17</td>\n",
              "      <td>0594481813</td>\n",
              "      <td>[2, 2]</td>\n",
              "      <td>4.00</td>\n",
              "      <td>work well little pricey think charging cable l...</td>\n",
              "      <td>06 27, 2013</td>\n",
              "      <td>A1S6B5QFWGVL5U</td>\n",
              "      <td>T. Vaughan</td>\n",
              "      <td>Good replacement</td>\n",
              "      <td>1372291200.00</td>\n",
              "      <td>0.20</td>\n",
              "      <td>pos</td>\n",
              "    </tr>\n",
              "    <tr>\n",
              "      <th>18</th>\n",
              "      <td>18</td>\n",
              "      <td>0972683275</td>\n",
              "      <td>[0, 0]</td>\n",
              "      <td>5.00</td>\n",
              "      <td>great buy compared retail store</td>\n",
              "      <td>07 12, 2014</td>\n",
              "      <td>A20XXTXWF2TCPY</td>\n",
              "      <td>NaN</td>\n",
              "      <td>Excelant mount for Tv. Would buy more if I nee...</td>\n",
              "      <td>1405123200.00</td>\n",
              "      <td>0.62</td>\n",
              "      <td>pos</td>\n",
              "    </tr>\n",
              "    <tr>\n",
              "      <th>19</th>\n",
              "      <td>19</td>\n",
              "      <td>0972683275</td>\n",
              "      <td>[1, 1]</td>\n",
              "      <td>5.00</td>\n",
              "      <td>mount needed strong sturdy fold almost flat en...</td>\n",
              "      <td>04 30, 2013</td>\n",
              "      <td>A2IDCSC6NVONIZ</td>\n",
              "      <td>2Cents!</td>\n",
              "      <td>Perfect</td>\n",
              "      <td>1367280000.00</td>\n",
              "      <td>0.90</td>\n",
              "      <td>pos</td>\n",
              "    </tr>\n",
              "  </tbody>\n",
              "</table>\n",
              "</div>\n",
              "    <div class=\"colab-df-buttons\">\n",
              "\n",
              "  <div class=\"colab-df-container\">\n",
              "    <button class=\"colab-df-convert\" onclick=\"convertToInteractive('df-c13448b0-60e4-45c7-a93d-72389e0d6c04')\"\n",
              "            title=\"Convert this dataframe to an interactive table.\"\n",
              "            style=\"display:none;\">\n",
              "\n",
              "  <svg xmlns=\"http://www.w3.org/2000/svg\" height=\"24px\" viewBox=\"0 -960 960 960\">\n",
              "    <path d=\"M120-120v-720h720v720H120Zm60-500h600v-160H180v160Zm220 220h160v-160H400v160Zm0 220h160v-160H400v160ZM180-400h160v-160H180v160Zm440 0h160v-160H620v160ZM180-180h160v-160H180v160Zm440 0h160v-160H620v160Z\"/>\n",
              "  </svg>\n",
              "    </button>\n",
              "\n",
              "  <style>\n",
              "    .colab-df-container {\n",
              "      display:flex;\n",
              "      gap: 12px;\n",
              "    }\n",
              "\n",
              "    .colab-df-convert {\n",
              "      background-color: #E8F0FE;\n",
              "      border: none;\n",
              "      border-radius: 50%;\n",
              "      cursor: pointer;\n",
              "      display: none;\n",
              "      fill: #1967D2;\n",
              "      height: 32px;\n",
              "      padding: 0 0 0 0;\n",
              "      width: 32px;\n",
              "    }\n",
              "\n",
              "    .colab-df-convert:hover {\n",
              "      background-color: #E2EBFA;\n",
              "      box-shadow: 0px 1px 2px rgba(60, 64, 67, 0.3), 0px 1px 3px 1px rgba(60, 64, 67, 0.15);\n",
              "      fill: #174EA6;\n",
              "    }\n",
              "\n",
              "    .colab-df-buttons div {\n",
              "      margin-bottom: 4px;\n",
              "    }\n",
              "\n",
              "    [theme=dark] .colab-df-convert {\n",
              "      background-color: #3B4455;\n",
              "      fill: #D2E3FC;\n",
              "    }\n",
              "\n",
              "    [theme=dark] .colab-df-convert:hover {\n",
              "      background-color: #434B5C;\n",
              "      box-shadow: 0px 1px 3px 1px rgba(0, 0, 0, 0.15);\n",
              "      filter: drop-shadow(0px 1px 2px rgba(0, 0, 0, 0.3));\n",
              "      fill: #FFFFFF;\n",
              "    }\n",
              "  </style>\n",
              "\n",
              "    <script>\n",
              "      const buttonEl =\n",
              "        document.querySelector('#df-c13448b0-60e4-45c7-a93d-72389e0d6c04 button.colab-df-convert');\n",
              "      buttonEl.style.display =\n",
              "        google.colab.kernel.accessAllowed ? 'block' : 'none';\n",
              "\n",
              "      async function convertToInteractive(key) {\n",
              "        const element = document.querySelector('#df-c13448b0-60e4-45c7-a93d-72389e0d6c04');\n",
              "        const dataTable =\n",
              "          await google.colab.kernel.invokeFunction('convertToInteractive',\n",
              "                                                    [key], {});\n",
              "        if (!dataTable) return;\n",
              "\n",
              "        const docLinkHtml = 'Like what you see? Visit the ' +\n",
              "          '<a target=\"_blank\" href=https://colab.research.google.com/notebooks/data_table.ipynb>data table notebook</a>'\n",
              "          + ' to learn more about interactive tables.';\n",
              "        element.innerHTML = '';\n",
              "        dataTable['output_type'] = 'display_data';\n",
              "        await google.colab.output.renderOutput(dataTable, element);\n",
              "        const docLink = document.createElement('div');\n",
              "        docLink.innerHTML = docLinkHtml;\n",
              "        element.appendChild(docLink);\n",
              "      }\n",
              "    </script>\n",
              "  </div>\n",
              "\n",
              "\n",
              "<div id=\"df-afd21db9-b69e-40b9-8030-8b9fe30f8ac3\">\n",
              "  <button class=\"colab-df-quickchart\" onclick=\"quickchart('df-afd21db9-b69e-40b9-8030-8b9fe30f8ac3')\"\n",
              "            title=\"Suggest charts\"\n",
              "            style=\"display:none;\">\n",
              "\n",
              "<svg xmlns=\"http://www.w3.org/2000/svg\" height=\"24px\"viewBox=\"0 0 24 24\"\n",
              "     width=\"24px\">\n",
              "    <g>\n",
              "        <path d=\"M19 3H5c-1.1 0-2 .9-2 2v14c0 1.1.9 2 2 2h14c1.1 0 2-.9 2-2V5c0-1.1-.9-2-2-2zM9 17H7v-7h2v7zm4 0h-2V7h2v10zm4 0h-2v-4h2v4z\"/>\n",
              "    </g>\n",
              "</svg>\n",
              "  </button>\n",
              "\n",
              "<style>\n",
              "  .colab-df-quickchart {\n",
              "      --bg-color: #E8F0FE;\n",
              "      --fill-color: #1967D2;\n",
              "      --hover-bg-color: #E2EBFA;\n",
              "      --hover-fill-color: #174EA6;\n",
              "      --disabled-fill-color: #AAA;\n",
              "      --disabled-bg-color: #DDD;\n",
              "  }\n",
              "\n",
              "  [theme=dark] .colab-df-quickchart {\n",
              "      --bg-color: #3B4455;\n",
              "      --fill-color: #D2E3FC;\n",
              "      --hover-bg-color: #434B5C;\n",
              "      --hover-fill-color: #FFFFFF;\n",
              "      --disabled-bg-color: #3B4455;\n",
              "      --disabled-fill-color: #666;\n",
              "  }\n",
              "\n",
              "  .colab-df-quickchart {\n",
              "    background-color: var(--bg-color);\n",
              "    border: none;\n",
              "    border-radius: 50%;\n",
              "    cursor: pointer;\n",
              "    display: none;\n",
              "    fill: var(--fill-color);\n",
              "    height: 32px;\n",
              "    padding: 0;\n",
              "    width: 32px;\n",
              "  }\n",
              "\n",
              "  .colab-df-quickchart:hover {\n",
              "    background-color: var(--hover-bg-color);\n",
              "    box-shadow: 0 1px 2px rgba(60, 64, 67, 0.3), 0 1px 3px 1px rgba(60, 64, 67, 0.15);\n",
              "    fill: var(--button-hover-fill-color);\n",
              "  }\n",
              "\n",
              "  .colab-df-quickchart-complete:disabled,\n",
              "  .colab-df-quickchart-complete:disabled:hover {\n",
              "    background-color: var(--disabled-bg-color);\n",
              "    fill: var(--disabled-fill-color);\n",
              "    box-shadow: none;\n",
              "  }\n",
              "\n",
              "  .colab-df-spinner {\n",
              "    border: 2px solid var(--fill-color);\n",
              "    border-color: transparent;\n",
              "    border-bottom-color: var(--fill-color);\n",
              "    animation:\n",
              "      spin 1s steps(1) infinite;\n",
              "  }\n",
              "\n",
              "  @keyframes spin {\n",
              "    0% {\n",
              "      border-color: transparent;\n",
              "      border-bottom-color: var(--fill-color);\n",
              "      border-left-color: var(--fill-color);\n",
              "    }\n",
              "    20% {\n",
              "      border-color: transparent;\n",
              "      border-left-color: var(--fill-color);\n",
              "      border-top-color: var(--fill-color);\n",
              "    }\n",
              "    30% {\n",
              "      border-color: transparent;\n",
              "      border-left-color: var(--fill-color);\n",
              "      border-top-color: var(--fill-color);\n",
              "      border-right-color: var(--fill-color);\n",
              "    }\n",
              "    40% {\n",
              "      border-color: transparent;\n",
              "      border-right-color: var(--fill-color);\n",
              "      border-top-color: var(--fill-color);\n",
              "    }\n",
              "    60% {\n",
              "      border-color: transparent;\n",
              "      border-right-color: var(--fill-color);\n",
              "    }\n",
              "    80% {\n",
              "      border-color: transparent;\n",
              "      border-right-color: var(--fill-color);\n",
              "      border-bottom-color: var(--fill-color);\n",
              "    }\n",
              "    90% {\n",
              "      border-color: transparent;\n",
              "      border-bottom-color: var(--fill-color);\n",
              "    }\n",
              "  }\n",
              "</style>\n",
              "\n",
              "  <script>\n",
              "    async function quickchart(key) {\n",
              "      const quickchartButtonEl =\n",
              "        document.querySelector('#' + key + ' button');\n",
              "      quickchartButtonEl.disabled = true;  // To prevent multiple clicks.\n",
              "      quickchartButtonEl.classList.add('colab-df-spinner');\n",
              "      try {\n",
              "        const charts = await google.colab.kernel.invokeFunction(\n",
              "            'suggestCharts', [key], {});\n",
              "      } catch (error) {\n",
              "        console.error('Error during call to suggestCharts:', error);\n",
              "      }\n",
              "      quickchartButtonEl.classList.remove('colab-df-spinner');\n",
              "      quickchartButtonEl.classList.add('colab-df-quickchart-complete');\n",
              "    }\n",
              "    (() => {\n",
              "      let quickchartButtonEl =\n",
              "        document.querySelector('#df-afd21db9-b69e-40b9-8030-8b9fe30f8ac3 button');\n",
              "      quickchartButtonEl.style.display =\n",
              "        google.colab.kernel.accessAllowed ? 'block' : 'none';\n",
              "    })();\n",
              "  </script>\n",
              "</div>\n",
              "\n",
              "    </div>\n",
              "  </div>\n"
            ],
            "application/vnd.google.colaboratory.intrinsic+json": {
              "type": "dataframe",
              "variable_name": "df",
              "summary": "{\n  \"name\": \"df\",\n  \"rows\": 999,\n  \"fields\": [\n    {\n      \"column\": \"Unnamed: 0\",\n      \"properties\": {\n        \"dtype\": \"number\",\n        \"std\": 288,\n        \"min\": 0,\n        \"max\": 998,\n        \"num_unique_values\": 999,\n        \"samples\": [\n          453,\n          793,\n          209\n        ],\n        \"semantic_type\": \"\",\n        \"description\": \"\"\n      }\n    },\n    {\n      \"column\": \"asin\",\n      \"properties\": {\n        \"dtype\": \"category\",\n        \"num_unique_values\": 40,\n        \"samples\": [\n          \"7214047977\",\n          \"3930992868\",\n          \"3744295508\"\n        ],\n        \"semantic_type\": \"\",\n        \"description\": \"\"\n      }\n    },\n    {\n      \"column\": \"helpful\",\n      \"properties\": {\n        \"dtype\": \"category\",\n        \"num_unique_values\": 139,\n        \"samples\": [\n          \"[18, 19]\",\n          \"[10, 10]\",\n          \"[11, 20]\"\n        ],\n        \"semantic_type\": \"\",\n        \"description\": \"\"\n      }\n    },\n    {\n      \"column\": \"overall\",\n      \"properties\": {\n        \"dtype\": \"number\",\n        \"std\": 1.2794905290190781,\n        \"min\": 1.0,\n        \"max\": 5.0,\n        \"num_unique_values\": 5,\n        \"samples\": [\n          1.0,\n          4.0,\n          3.0\n        ],\n        \"semantic_type\": \"\",\n        \"description\": \"\"\n      }\n    },\n    {\n      \"column\": \"reviewText\",\n      \"properties\": {\n        \"dtype\": \"string\",\n        \"num_unique_values\": 998,\n        \"samples\": [\n          \"think international customer forewarned barnes noble prevents able purchase book online bookstore sent email stating book sold customer physically residing united state despite international credit card accepted united state even barnes noble card used pay bn membership despite even giving u postal physical address package would signed real personthe thing anger explained barnes noble via phone live trinidad said would problem purchase book purchasing nook color plus additional item screen protector leather case gig sandisk memory card bought amazon able purchase single bookif international customer welcome least type warning website feel like rippedoff barnes noble sad thing bought birthday gift wife shame barnes noble sale rep lied make sale money good enough good enough product new nook color extra gathering dustit sad see low company stoop make dollarthe real slap face registering nook barnes noble website purpose purchasing book problem sending offer week week purchase even product far concerned lost customer permanentlyps review nothing whatsoever amazoncom gripe barnes noble giving false information secure sale caring nothing international customersupdate update updatein interest fairness barnes noble giving amazoncom community reliable information decided open account bank thats based usa see bn would able access fund account im trying find whether location issue payment issue know surei decided try little experiment cant understand gain access sample book bn every time try purchase one seems problem make whole thing even confusing email sent bn tried purchase book via scotia master card book sold customer physically residing united statesi bank america visa debit card tried yet possible issue barnes noble cannot access fund scotia master card based trinidad give bank america card try seeing based usa work last resort try using pay pal account ill post update whether worked notupdate update updateim sorry taking long anyway let u get said every time tried purchase book seems problem make whole thing even confusing email sent bn tried purchase book via scotia master card book sold customer physically residing united stateswell found possible purchase book nook using u based card able purchase book using scotia master card problem whatsoever using bank america visa card definitely nothing geographical location ip address issue see fact everyone access u bank card may still chance making purchase via paypali noticed u based seller problem accessing fund trinidad based credit card even problem accessing fund u based card although also u case like ive found best payment method avoid headache via paypal ive never issue paying via paypal even form payment could worki hope help little\",\n          \"bought power wife first high output led flashlight work didt last nearly long id expected charger worked fine real issue battery werent impressedi ended replacing pair single panasonic battery much happier ended giving away along flashlight stepdaughter upgraded wife flashlight something little punch\",\n          \"got hang sony lcd bedroom used stud finder locate stud drilled pilot hole hung extra set hand helpful hanging mount mounting tv hole mount lined perfectly tv screw fit rightno complaint\"\n        ],\n        \"semantic_type\": \"\",\n        \"description\": \"\"\n      }\n    },\n    {\n      \"column\": \"reviewTime\",\n      \"properties\": {\n        \"dtype\": \"object\",\n        \"num_unique_values\": 724,\n        \"samples\": [\n          \"11 26, 2010\",\n          \"03 23, 2014\",\n          \"04 18, 2014\"\n        ],\n        \"semantic_type\": \"\",\n        \"description\": \"\"\n      }\n    },\n    {\n      \"column\": \"reviewerID\",\n      \"properties\": {\n        \"dtype\": \"string\",\n        \"num_unique_values\": 963,\n        \"samples\": [\n          \"A3M73KV733HBG3\",\n          \"A23ZWJ9CS8OG30\",\n          \"A3TF6A1YMYJQ9U\"\n        ],\n        \"semantic_type\": \"\",\n        \"description\": \"\"\n      }\n    },\n    {\n      \"column\": \"reviewerName\",\n      \"properties\": {\n        \"dtype\": \"string\",\n        \"num_unique_values\": 927,\n        \"samples\": [\n          \"nick m\",\n          \"Shinebox\",\n          \"B. Kilpatrick\"\n        ],\n        \"semantic_type\": \"\",\n        \"description\": \"\"\n      }\n    },\n    {\n      \"column\": \"summary\",\n      \"properties\": {\n        \"dtype\": \"string\",\n        \"num_unique_values\": 940,\n        \"samples\": [\n          \"Well worth every penny if rooted with Kit Kat\",\n          \"These mounts are amazing\",\n          \"Excellent!\"\n        ],\n        \"semantic_type\": \"\",\n        \"description\": \"\"\n      }\n    },\n    {\n      \"column\": \"unixReviewTime\",\n      \"properties\": {\n        \"dtype\": \"number\",\n        \"std\": 44080605.43469735,\n        \"min\": 958089600.0,\n        \"max\": 1405555200.0,\n        \"num_unique_values\": 724,\n        \"samples\": [\n          1290729600.0,\n          1395532800.0,\n          1397779200.0\n        ],\n        \"semantic_type\": \"\",\n        \"description\": \"\"\n      }\n    },\n    {\n      \"column\": \"polarity_score\",\n      \"properties\": {\n        \"dtype\": \"number\",\n        \"std\": 0.45078061370103606,\n        \"min\": -0.9673,\n        \"max\": 0.9998,\n        \"num_unique_values\": 531,\n        \"samples\": [\n          0.9255,\n          -0.5256,\n          0.9709\n        ],\n        \"semantic_type\": \"\",\n        \"description\": \"\"\n      }\n    },\n    {\n      \"column\": \"sentiment_label\",\n      \"properties\": {\n        \"dtype\": \"category\",\n        \"num_unique_values\": 2,\n        \"samples\": [\n          \"neg\",\n          \"pos\"\n        ],\n        \"semantic_type\": \"\",\n        \"description\": \"\"\n      }\n    }\n  ]\n}"
            }
          },
          "metadata": {},
          "execution_count": 36
        }
      ]
    },
    {
      "cell_type": "code",
      "source": [
        "df[\"sentiment_label\"].value_counts()"
      ],
      "metadata": {
        "colab": {
          "base_uri": "https://localhost:8080/"
        },
        "id": "5777yBNUMbI6",
        "outputId": "46a45064-3a74-4cc0-c9db-8c05f2c5431f"
      },
      "execution_count": 37,
      "outputs": [
        {
          "output_type": "execute_result",
          "data": {
            "text/plain": [
              "pos    858\n",
              "neg    141\n",
              "Name: sentiment_label, dtype: int64"
            ]
          },
          "metadata": {},
          "execution_count": 37
        }
      ]
    },
    {
      "cell_type": "code",
      "source": [
        "df.groupby(\"sentiment_label\")[\"overall\"].mean()"
      ],
      "metadata": {
        "colab": {
          "base_uri": "https://localhost:8080/"
        },
        "id": "Zo5JpLYoMkNN",
        "outputId": "0d5717f7-7758-4bc0-eb62-c36a1bb2af0a"
      },
      "execution_count": 38,
      "outputs": [
        {
          "output_type": "execute_result",
          "data": {
            "text/plain": [
              "sentiment_label\n",
              "neg   3.43\n",
              "pos   4.25\n",
              "Name: overall, dtype: float64"
            ]
          },
          "metadata": {},
          "execution_count": 38
        }
      ]
    },
    {
      "cell_type": "code",
      "source": [
        "df[\"sentiment_label\"] = LabelEncoder().fit_transform(df[\"sentiment_label\"])"
      ],
      "metadata": {
        "id": "Ercda0eAMqY7"
      },
      "execution_count": 39,
      "outputs": []
    },
    {
      "cell_type": "code",
      "source": [
        "X = df[\"reviewText\"]\n",
        "y = df[\"sentiment_label\"]"
      ],
      "metadata": {
        "id": "Pf7GU1XVMwCV"
      },
      "execution_count": 40,
      "outputs": []
    },
    {
      "cell_type": "code",
      "source": [
        "# ngram\n",
        "a = \"\"\"A longer text for better understanding. N-grams show combinations of words used together and are used to generate features.\"\"\"\n",
        "TextBlob(a).ngrams(3)"
      ],
      "metadata": {
        "colab": {
          "base_uri": "https://localhost:8080/"
        },
        "id": "-ThFbIPmMzBh",
        "outputId": "5e8752c0-50a3-4d33-a1b9-709000c5a993"
      },
      "execution_count": 41,
      "outputs": [
        {
          "output_type": "execute_result",
          "data": {
            "text/plain": [
              "[WordList(['A', 'longer', 'text']),\n",
              " WordList(['longer', 'text', 'for']),\n",
              " WordList(['text', 'for', 'better']),\n",
              " WordList(['for', 'better', 'understanding']),\n",
              " WordList(['better', 'understanding', 'N-grams']),\n",
              " WordList(['understanding', 'N-grams', 'show']),\n",
              " WordList(['N-grams', 'show', 'combinations']),\n",
              " WordList(['show', 'combinations', 'of']),\n",
              " WordList(['combinations', 'of', 'words']),\n",
              " WordList(['of', 'words', 'used']),\n",
              " WordList(['words', 'used', 'together']),\n",
              " WordList(['used', 'together', 'and']),\n",
              " WordList(['together', 'and', 'are']),\n",
              " WordList(['and', 'are', 'used']),\n",
              " WordList(['are', 'used', 'to']),\n",
              " WordList(['used', 'to', 'generate']),\n",
              " WordList(['to', 'generate', 'features'])]"
            ]
          },
          "metadata": {},
          "execution_count": 41
        }
      ]
    },
    {
      "cell_type": "code",
      "source": [
        "from sklearn.feature_extraction.text import CountVectorizer\n",
        "\n",
        "corpus = ['This is the first document.',\n",
        "          'This document is the second document.',\n",
        "          'And this is the third one.',\n",
        "          'Is this the first document?']"
      ],
      "metadata": {
        "id": "3UpGUwE8NO85"
      },
      "execution_count": 42,
      "outputs": []
    },
    {
      "cell_type": "code",
      "source": [
        "vectorizer = CountVectorizer()\n",
        "X_c = vectorizer.fit_transform(corpus)\n",
        "feature_names = vectorizer.get_feature_names_out()\n",
        "X_c.toarray()"
      ],
      "metadata": {
        "colab": {
          "base_uri": "https://localhost:8080/"
        },
        "id": "am7woRaZNVlP",
        "outputId": "1d5acc09-ba9a-4dc1-ddc1-10558ead9588"
      },
      "execution_count": 43,
      "outputs": [
        {
          "output_type": "execute_result",
          "data": {
            "text/plain": [
              "array([[0, 1, 1, 1, 0, 0, 1, 0, 1],\n",
              "       [0, 2, 0, 1, 0, 1, 1, 0, 1],\n",
              "       [1, 0, 0, 1, 1, 0, 1, 1, 1],\n",
              "       [0, 1, 1, 1, 0, 0, 1, 0, 1]])"
            ]
          },
          "metadata": {},
          "execution_count": 43
        }
      ]
    },
    {
      "cell_type": "code",
      "source": [
        "vectorizer2 = CountVectorizer(analyzer='word', ngram_range=(2, 2))\n",
        "X_n = vectorizer2.fit_transform(corpus)\n",
        "feature_names = vectorizer2.get_feature_names_out()\n",
        "X_n.toarray()"
      ],
      "metadata": {
        "colab": {
          "base_uri": "https://localhost:8080/"
        },
        "id": "DZZXPfjlNYmb",
        "outputId": "b8c75a89-57cd-417c-c768-f50b098b242e"
      },
      "execution_count": 44,
      "outputs": [
        {
          "output_type": "execute_result",
          "data": {
            "text/plain": [
              "array([[0, 0, 1, 1, 0, 0, 1, 0, 0, 0, 0, 1, 0],\n",
              "       [0, 1, 0, 1, 0, 1, 0, 1, 0, 0, 1, 0, 0],\n",
              "       [1, 0, 0, 1, 0, 0, 0, 0, 1, 1, 0, 1, 0],\n",
              "       [0, 0, 1, 0, 1, 0, 1, 0, 0, 0, 0, 0, 1]])"
            ]
          },
          "metadata": {},
          "execution_count": 44
        }
      ]
    },
    {
      "cell_type": "code",
      "source": [
        "vectorizer = CountVectorizer()\n",
        "X_count = vectorizer.fit_transform(X)\n",
        "\n",
        "# Getting feature names for the 10th to 14th features\n",
        "feature_names_slice = vectorizer.get_feature_names_out()[10:15]\n",
        "print(feature_names_slice)\n",
        "\n",
        "# Getting the transformed matrix for the 10th to 14th samples\n",
        "X_count_slice = X_count.toarray()[10:15]\n",
        "print(X_count_slice)"
      ],
      "metadata": {
        "colab": {
          "base_uri": "https://localhost:8080/"
        },
        "id": "BaFelzS4Nn6p",
        "outputId": "0e8ffd2d-aebb-413b-d6e4-8843355c4536"
      },
      "execution_count": 45,
      "outputs": [
        {
          "output_type": "stream",
          "name": "stdout",
          "text": [
            "['abundance' 'abuse' 'abused' 'abusednot' 'ac']\n",
            "[[0 0 0 ... 0 0 0]\n",
            " [0 0 0 ... 0 0 0]\n",
            " [0 0 0 ... 0 0 0]\n",
            " [0 0 0 ... 0 0 0]\n",
            " [0 0 0 ... 0 0 0]]\n"
          ]
        }
      ]
    },
    {
      "cell_type": "markdown",
      "source": [
        "##TF_IDF\n"
      ],
      "metadata": {
        "id": "aTl7wozKOhq4"
      }
    },
    {
      "cell_type": "code",
      "source": [
        "from sklearn.feature_extraction.text import TfidfVectorizer\n",
        "\n",
        "vectorizer = TfidfVectorizer(analyzer='word')\n",
        "X_w = vectorizer.fit_transform(corpus)\n",
        "\n",
        "# Getting feature names\n",
        "feature_names = vectorizer.get_feature_names_out()\n",
        "print(feature_names)\n",
        "\n",
        "# Getting the TF-IDF matrix\n",
        "tfidf_matrix = X_w.toarray()\n",
        "print(tfidf_matrix)"
      ],
      "metadata": {
        "colab": {
          "base_uri": "https://localhost:8080/"
        },
        "id": "YShstixbN-sK",
        "outputId": "8daaccec-60d5-4b8d-c467-e710f4a9559b"
      },
      "execution_count": 46,
      "outputs": [
        {
          "output_type": "stream",
          "name": "stdout",
          "text": [
            "['and' 'document' 'first' 'is' 'one' 'second' 'the' 'third' 'this']\n",
            "[[0.         0.46979139 0.58028582 0.38408524 0.         0.\n",
            "  0.38408524 0.         0.38408524]\n",
            " [0.         0.6876236  0.         0.28108867 0.         0.53864762\n",
            "  0.28108867 0.         0.28108867]\n",
            " [0.51184851 0.         0.         0.26710379 0.51184851 0.\n",
            "  0.26710379 0.51184851 0.26710379]\n",
            " [0.         0.46979139 0.58028582 0.38408524 0.         0.\n",
            "  0.38408524 0.         0.38408524]]\n"
          ]
        }
      ]
    },
    {
      "cell_type": "code",
      "source": [
        "from sklearn.feature_extraction.text import TfidfVectorizer\n",
        "\n",
        "vectorizer = TfidfVectorizer(ngram_range=(2, 3))\n",
        "X_n = vectorizer.fit_transform(corpus)\n",
        "\n",
        "# Getting feature names\n",
        "feature_names = vectorizer.get_feature_names_out()\n",
        "print(feature_names)\n",
        "\n",
        "# Getting the TF-IDF matrix\n",
        "tfidf_matrix = X_n.toarray()\n",
        "print(tfidf_matrix)"
      ],
      "metadata": {
        "colab": {
          "base_uri": "https://localhost:8080/"
        },
        "id": "VHqNSpP6OlIT",
        "outputId": "c9081b73-b14c-4f84-8a72-4b9b4c03285a"
      },
      "execution_count": 47,
      "outputs": [
        {
          "output_type": "stream",
          "name": "stdout",
          "text": [
            "['and this' 'and this is' 'document is' 'document is the' 'first document'\n",
            " 'is the' 'is the first' 'is the second' 'is the third' 'is this'\n",
            " 'is this the' 'second document' 'the first' 'the first document'\n",
            " 'the second' 'the second document' 'the third' 'the third one'\n",
            " 'third one' 'this document' 'this document is' 'this is' 'this is the'\n",
            " 'this the' 'this the first']\n",
            "[[0.         0.         0.         0.         0.37102749 0.30037873\n",
            "  0.47060133 0.         0.         0.         0.         0.\n",
            "  0.37102749 0.37102749 0.         0.         0.         0.\n",
            "  0.         0.         0.         0.37102749 0.37102749 0.\n",
            "  0.        ]\n",
            " [0.         0.         0.34488069 0.34488069 0.         0.22013288\n",
            "  0.         0.34488069 0.         0.         0.         0.34488069\n",
            "  0.         0.         0.34488069 0.34488069 0.         0.\n",
            "  0.         0.34488069 0.34488069 0.         0.         0.\n",
            "  0.        ]\n",
            " [0.36153669 0.36153669 0.         0.         0.         0.23076418\n",
            "  0.         0.         0.36153669 0.         0.         0.\n",
            "  0.         0.         0.         0.         0.36153669 0.36153669\n",
            "  0.36153669 0.         0.         0.28503968 0.28503968 0.\n",
            "  0.        ]\n",
            " [0.         0.         0.         0.         0.32555709 0.\n",
            "  0.         0.         0.         0.41292788 0.41292788 0.\n",
            "  0.32555709 0.32555709 0.         0.         0.         0.\n",
            "  0.         0.         0.         0.         0.         0.41292788\n",
            "  0.41292788]]\n"
          ]
        }
      ]
    },
    {
      "cell_type": "code",
      "source": [
        "tf_idf_word_vectorizer = TfidfVectorizer()\n",
        "X_tf_idf_word = tf_idf_word_vectorizer.fit_transform(X)"
      ],
      "metadata": {
        "id": "2olPkpOcOwx8"
      },
      "execution_count": 48,
      "outputs": []
    },
    {
      "cell_type": "markdown",
      "source": [
        "##Model"
      ],
      "metadata": {
        "id": "5ejB5cOAPPG-"
      }
    },
    {
      "cell_type": "code",
      "source": [
        "# Logistic Regression\n",
        "\n",
        "log_model = LogisticRegression().fit(X_tf_idf_word, y)\n"
      ],
      "metadata": {
        "id": "iNAqAvqqC3Wk"
      },
      "execution_count": 49,
      "outputs": []
    },
    {
      "cell_type": "code",
      "source": [
        "# Cross-validation\n",
        "accuracy = cross_val_score(log_model, X_tf_idf_word, y, scoring=\"accuracy\", cv=5).mean()\n",
        "print(\"Cross-Validation Accuracy:\", accuracy)"
      ],
      "metadata": {
        "colab": {
          "base_uri": "https://localhost:8080/"
        },
        "id": "T7W71p0pPXKH",
        "outputId": "96b451bc-4335-4113-f811-7ad1bb3a2990"
      },
      "execution_count": 50,
      "outputs": [
        {
          "output_type": "stream",
          "name": "stdout",
          "text": [
            "Cross-Validation Accuracy: 0.8588592964824121\n"
          ]
        }
      ]
    },
    {
      "cell_type": "code",
      "source": [
        "new_review = pd.Series(\"this product is great\")\n",
        "new_review = pd.Series(\"look at that shit very bad\")\n",
        "new_review = pd.Series(\"it was good but I am sure that it fits me\")"
      ],
      "metadata": {
        "id": "0oNybm24RXof"
      },
      "execution_count": 51,
      "outputs": []
    },
    {
      "cell_type": "code",
      "source": [
        "new_review = CountVectorizer().fit(X).transform(new_review)\n",
        "log_model.predict(new_review)"
      ],
      "metadata": {
        "colab": {
          "base_uri": "https://localhost:8080/"
        },
        "id": "LWj2bGOLRgg5",
        "outputId": "37b5e67e-faa6-466a-f879-c6bd31cca06c"
      },
      "execution_count": 52,
      "outputs": [
        {
          "output_type": "execute_result",
          "data": {
            "text/plain": [
              "array([1])"
            ]
          },
          "metadata": {},
          "execution_count": 52
        }
      ]
    },
    {
      "cell_type": "code",
      "source": [
        "random_review = pd.Series(df[\"reviewText\"].sample(1).values)\n",
        "random_review"
      ],
      "metadata": {
        "colab": {
          "base_uri": "https://localhost:8080/"
        },
        "id": "erLScPBNQ4D9",
        "outputId": "5e49b282-81ff-4993-de0f-669a89254b4b"
      },
      "execution_count": 53,
      "outputs": [
        {
          "output_type": "execute_result",
          "data": {
            "text/plain": [
              "0    got mounting tv wall home office price good wo...\n",
              "dtype: object"
            ]
          },
          "metadata": {},
          "execution_count": 53
        }
      ]
    },
    {
      "cell_type": "code",
      "source": [
        "new_review = CountVectorizer().fit(X).transform(random_review)\n",
        "log_model.predict(new_review)"
      ],
      "metadata": {
        "colab": {
          "base_uri": "https://localhost:8080/"
        },
        "id": "a2A7fI4NRpHN",
        "outputId": "40285906-d5bc-49ea-d2ad-3a274ed2b0f1"
      },
      "execution_count": 54,
      "outputs": [
        {
          "output_type": "execute_result",
          "data": {
            "text/plain": [
              "array([1])"
            ]
          },
          "metadata": {},
          "execution_count": 54
        }
      ]
    },
    {
      "cell_type": "markdown",
      "source": [
        "##Random Forest"
      ],
      "metadata": {
        "id": "bzpnoxR8Rzdc"
      }
    },
    {
      "cell_type": "code",
      "source": [
        "# Count Vectors\n",
        "rf_model = RandomForestClassifier().fit(X_count, y)\n",
        "cross_val_score(rf_model, X_count, y, cv=5, n_jobs=-1).mean()"
      ],
      "metadata": {
        "colab": {
          "base_uri": "https://localhost:8080/"
        },
        "id": "6gNkJt1VRzJF",
        "outputId": "37ee6be4-e2c6-45bc-c5cd-31707e0d8bd9"
      },
      "execution_count": 55,
      "outputs": [
        {
          "output_type": "execute_result",
          "data": {
            "text/plain": [
              "0.8618643216080402"
            ]
          },
          "metadata": {},
          "execution_count": 55
        }
      ]
    },
    {
      "cell_type": "code",
      "source": [
        "# TF-IDF Word-Level\n",
        "rf_model = RandomForestClassifier().fit(X_tf_idf_word, y)\n",
        "cross_val_score(rf_model, X_tf_idf_word, y, cv=5, n_jobs=-1).mean()"
      ],
      "metadata": {
        "colab": {
          "base_uri": "https://localhost:8080/"
        },
        "id": "kbaVvQb2Ruk2",
        "outputId": "eadfecb7-bb3e-414c-853d-c372e6271c03"
      },
      "execution_count": 56,
      "outputs": [
        {
          "output_type": "execute_result",
          "data": {
            "text/plain": [
              "0.8608592964824121"
            ]
          },
          "metadata": {},
          "execution_count": 56
        }
      ]
    },
    {
      "cell_type": "code",
      "source": [
        "# Hyperparameter Optimization\n",
        "rf_model = RandomForestClassifier(random_state=17)\n",
        "\n",
        "rf_params = {\"max_depth\": [5, 8, None],\n",
        "             \"max_features\": [5, 7, \"auto\"],\n",
        "             \"min_samples_split\": [2, 5, 8, 20],\n",
        "             \"n_estimators\": [100, 200, 500]}\n",
        "\n",
        "rf_best_grid = GridSearchCV(rf_model,\n",
        "                            rf_params,\n",
        "                            cv=5,\n",
        "                            n_jobs=-1,\n",
        "                            verbose=True).fit(X_count, y)"
      ],
      "metadata": {
        "colab": {
          "base_uri": "https://localhost:8080/"
        },
        "id": "QwKWPHNNR7lN",
        "outputId": "06f6ee9f-9f11-4eae-a0b6-ee1a71a04361"
      },
      "execution_count": 57,
      "outputs": [
        {
          "output_type": "stream",
          "name": "stdout",
          "text": [
            "Fitting 5 folds for each of 108 candidates, totalling 540 fits\n"
          ]
        }
      ]
    },
    {
      "cell_type": "code",
      "source": [
        "rf_best_grid.best_params_"
      ],
      "metadata": {
        "colab": {
          "base_uri": "https://localhost:8080/"
        },
        "id": "66hoH8zvDnw3",
        "outputId": "f27750f1-db8c-4c93-8afb-f2a53205c5f2"
      },
      "execution_count": 58,
      "outputs": [
        {
          "output_type": "execute_result",
          "data": {
            "text/plain": [
              "{'max_depth': None,\n",
              " 'max_features': 'auto',\n",
              " 'min_samples_split': 2,\n",
              " 'n_estimators': 100}"
            ]
          },
          "metadata": {},
          "execution_count": 58
        }
      ]
    },
    {
      "cell_type": "code",
      "source": [
        "rf_final = rf_model.set_params(**rf_best_grid.best_params_, random_state=17).fit(X_count, y)"
      ],
      "metadata": {
        "id": "Ah3XLdpQDsB2"
      },
      "execution_count": 59,
      "outputs": []
    },
    {
      "cell_type": "code",
      "source": [
        "cv_results = cross_validate(rf_final, X_count, y, cv=3, scoring=[\"accuracy\", \"f1\", \"roc_auc\"])"
      ],
      "metadata": {
        "id": "EyW0Y3KHDupS"
      },
      "execution_count": 60,
      "outputs": []
    },
    {
      "cell_type": "code",
      "source": [
        "print(\"Mean Accuracy:\", cv_results['test_accuracy'].mean())\n",
        "print(\"Mean F1-score:\", cv_results['test_f1'].mean())\n",
        "print(\"Mean ROC AUC:\", cv_results['test_roc_auc'].mean())"
      ],
      "metadata": {
        "colab": {
          "base_uri": "https://localhost:8080/"
        },
        "id": "BjVZoSQvFT8L",
        "outputId": "3e05f0ce-2c6b-48f2-f1f7-3c76995cad1d"
      },
      "execution_count": 61,
      "outputs": [
        {
          "output_type": "stream",
          "name": "stdout",
          "text": [
            "Mean Accuracy: 0.8608608608608609\n",
            "Mean F1-score: 0.9250679228250318\n",
            "Mean ROC AUC: 0.6658483360611019\n"
          ]
        }
      ]
    },
    {
      "cell_type": "code",
      "source": [
        "import matplotlib.pyplot as plt\n",
        "\n",
        "# Box plot for accuracy\n",
        "plt.figure(figsize=(8, 6))\n",
        "plt.boxplot(cv_results['test_accuracy'], labels=[\"Accuracy\"])\n",
        "plt.title(\"Accuracy Distribution\")\n",
        "plt.show()"
      ],
      "metadata": {
        "colab": {
          "base_uri": "https://localhost:8080/",
          "height": 545
        },
        "id": "A1m2-Gr2Fkn2",
        "outputId": "18b66f5c-65d6-4c80-d881-4576a1672f99"
      },
      "execution_count": 62,
      "outputs": [
        {
          "output_type": "display_data",
          "data": {
            "text/plain": [
              "<Figure size 800x600 with 1 Axes>"
            ],
            "image/png": "[encoded data removed]"
          },
          "metadata": {}
        }
      ]
    },
    {
      "cell_type": "code",
      "source": [
        "from sklearn.model_selection import GridSearchCV\n",
        "\n",
        "param_grid = {\n",
        "    'n_estimators': [100, 200, 300],\n",
        "    'max_depth': [None, 10, 20],\n",
        "    'min_samples_split': [2, 5, 10]\n",
        "}\n",
        "\n",
        "grid_search = GridSearchCV(rf_final, param_grid, cv=3, scoring='accuracy')\n",
        "grid_search.fit(X_count, y)\n",
        "\n",
        "print(\"Best parameters:\", grid_search.best_params_)\n",
        "print(\"Best accuracy:\", grid_search.best_score_)\n"
      ],
      "metadata": {
        "colab": {
          "base_uri": "https://localhost:8080/"
        },
        "id": "NkHWMAeMFo0A",
        "outputId": "32eb8950-9403-4e00-a524-31557b16bf3a"
      },
      "execution_count": 63,
      "outputs": [
        {
          "output_type": "stream",
          "name": "stdout",
          "text": [
            "Best parameters: {'max_depth': None, 'min_samples_split': 2, 'n_estimators': 100}\n",
            "Best accuracy: 0.8608608608608609\n"
          ]
        }
      ]
    },
    {
      "cell_type": "code",
      "source": [
        "feature_importance = rf_final.feature_importances_"
      ],
      "metadata": {
        "id": "OXnYJP9EFyPg"
      },
      "execution_count": 64,
      "outputs": []
    },
    {
      "cell_type": "code",
      "source": [
        "print(\"Model Interpretation- most influenced feature: \",feature_importance)"
      ],
      "metadata": {
        "colab": {
          "base_uri": "https://localhost:8080/"
        },
        "id": "Kc7xrGwbGGTM",
        "outputId": "cea573cc-e07f-4320-b5b7-635a5275036d"
      },
      "execution_count": 65,
      "outputs": [
        {
          "output_type": "stream",
          "name": "stdout",
          "text": [
            "Model Interpretation- most influenced feature:  [4.48258455e-06 7.62508374e-05 2.14003191e-04 ... 0.00000000e+00\n",
            " 0.00000000e+00 0.00000000e+00]\n"
          ]
        }
      ]
    },
    {
      "cell_type": "markdown",
      "source": [
        "#Save the model"
      ],
      "metadata": {
        "id": "ReQicw1QHptl"
      }
    },
    {
      "cell_type": "code",
      "source": [
        "import joblib"
      ],
      "metadata": {
        "id": "vWyZxpeqHtZ9"
      },
      "execution_count": 66,
      "outputs": []
    },
    {
      "cell_type": "code",
      "source": [
        "joblib.dump(rf_final, 'sentiment_analysis_model.pkl')"
      ],
      "metadata": {
        "colab": {
          "base_uri": "https://localhost:8080/"
        },
        "id": "4TNNKJ4EHtW3",
        "outputId": "302653e2-ce99-4079-d891-431ab165f315"
      },
      "execution_count": 67,
      "outputs": [
        {
          "output_type": "execute_result",
          "data": {
            "text/plain": [
              "['sentiment_analysis_model.pkl']"
            ]
          },
          "metadata": {},
          "execution_count": 67
        }
      ]
    },
    {
      "cell_type": "code",
      "source": [],
      "metadata": {
        "id": "bC7kmO8BMTce"
      },
      "execution_count": null,
      "outputs": []
    }
  ]
}